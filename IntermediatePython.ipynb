{
 "cells": [
  {
   "cell_type": "markdown",
   "metadata": {},
   "source": [
    "# <br><br><center><font color=#505050 size=8 face='arial black'>Intermediate Python Workshop</font></center>  <br><br><center><font color=#ff6347 size=5 face='arial black'>Kareem Carr</font></center><br><br>"
   ]
  },
  {
   "cell_type": "markdown",
   "metadata": {},
   "source": [
    "<font color=#505050 size=5 face='arial black'>IQSS Research Consulting Team </font>\n",
    "<br><br><font color=#505050 size=3 face='arial black'>FREE service for anybody doing research at Harvard or MIT including undergraduates, graduate students, postdocs, professors and other affiliates.  Our goal is to increase the computational and statistical knowledge across the research community.\n",
    "\n",
    "Short consultations on technical issues presenting a barrier to research including problems in <font color=#ff6347>statistical analysis</font>, <font color=#ff6347>programming</font>, <font color=#ff6347>experiment design</font> and <font color=#ff6347>distributed computing</font>.</font>\n",
    "<br><br><font color=#505050 size=3 face='arial black'>email: <a href=\"mailto:help@iq.harvard.edu\">help@iq.harvard.edu</a></font><br>\n",
    "<font color=#505050 size=3 face='arial black'>website: http://projects.iq.harvard.edu/rtc </font>\n",
    "<br><br><br>"
   ]
  },
  {
   "cell_type": "markdown",
   "metadata": {},
   "source": [
    "<br><center><font color=#ff6347 size=6 face='arial black'>Objectives of the Workshop</font></center><br>\n",
    "\n",
    "<font color=#505050 size=3 face='arial black'>\n",
    "<p>The goal of this class is not only to build on the knowledge that you may have gained either from the first course in this series or on your own, it's also to add to your conceptual understanding of python. Put simply, at the end of this course, you should know a little bit more about writing <font color=#ff6347>pythonic code</font>.</p>\n",
    "\n",
    "<p>Code is pythonic if it uses the idioms of python.</p>\n",
    "<br>"
   ]
  },
  {
   "cell_type": "code",
   "execution_count": null,
   "metadata": {
    "collapsed": false
   },
   "outputs": [],
   "source": [
    "from questions import hide, unhide"
   ]
  },
  {
   "cell_type": "markdown",
   "metadata": {
    "collapsed": false
   },
   "source": [
    "<br><br><center><font color=#ff6347 size=6 face='arial black'>Warm Up</font></center><br><br>"
   ]
  },
  {
   "cell_type": "markdown",
   "metadata": {
    "collapsed": false
   },
   "source": [
    "<font color=#505050 size=4.5 face='arial black'>Warm-Up 1: Making a dictionary from lists</font> <br>"
   ]
  },
  {
   "cell_type": "markdown",
   "metadata": {
    "collapsed": true
   },
   "source": [
    "<font color=#505050 size=3 face='arial black'>\n",
    "Python has two basic containers: <font color=#ff6347>dictionary</font> and <font color=#ff6347>list</font>\n",
    "</font>"
   ]
  },
  {
   "cell_type": "code",
   "execution_count": 305,
   "metadata": {
    "collapsed": false
   },
   "outputs": [
    {
     "name": "stdout",
     "output_type": "stream",
     "text": [
      "['Alice', 'Bob', 'Calvin', 'Dana', 'Ester', 'Frank', 'George', 'Harper', 'Ivan']\n"
     ]
    }
   ],
   "source": [
    "import random\n",
    "names = ['Alice','Bob','Calvin','Dana','Ester','Frank','George','Harper','Ivan']\n",
    "print names"
   ]
  },
  {
   "cell_type": "markdown",
   "metadata": {},
   "source": [
    "<br>\n",
    "<center><font color=#505050 size=5 face='Consolas'>\n",
    "What does this code that generates the <font color=#ff6347>votes</font> variable do?\n",
    "</font></center>\n",
    "<br>"
   ]
  },
  {
   "cell_type": "code",
   "execution_count": 307,
   "metadata": {
    "collapsed": false
   },
   "outputs": [
    {
     "name": "stdout",
     "output_type": "stream",
     "text": [
      "['No', 'Yes', 'No', 'Yes', 'No', 'No', 'No', 'No', 'Yes']\n"
     ]
    }
   ],
   "source": [
    "votes = [random.choice(['Yes','No']) for name in names]\n",
    "print votes"
   ]
  },
  {
   "cell_type": "markdown",
   "metadata": {},
   "source": [
    "<br>\n",
    "<center><font color=#505050 size=5 face='Consolas'>\n",
    "How do I make a dictionary from the <font color=#ff6347>names</font> and <font color=#ff6347>votes</font> variables?\n",
    "</font></center>\n",
    "<br>\n",
    "<font color=#505050 size=3 face='arial black'>\n",
    "Look at the results of zipping the list and note that the dict function knows what to do with a zipped list.\n",
    "</font>"
   ]
  },
  {
   "cell_type": "code",
   "execution_count": 308,
   "metadata": {
    "collapsed": false
   },
   "outputs": [
    {
     "name": "stdout",
     "output_type": "stream",
     "text": [
      "zipped_list: [('Alice', 'No'), ('Bob', 'Yes'), ('Calvin', 'No'), ('Dana', 'Yes'), ('Ester', 'No'), ('Frank', 'No'), ('George', 'No'), ('Harper', 'No'), ('Ivan', 'Yes')]\n",
      "\n",
      "my_dictionary: {'Harper': 'No', 'Frank': 'No', 'Alice': 'No', 'Calvin': 'No', 'Ivan': 'Yes', 'Ester': 'No', 'Bob': 'Yes', 'George': 'No', 'Dana': 'Yes'}\n"
     ]
    }
   ],
   "source": [
    "zipped_list = zip(names,votes)\n",
    "print 'zipped_list:', zipped_list\n",
    "print\n",
    "my_dictionary=dict(zipped_list)\n",
    "print 'my_dictionary:', my_dictionary"
   ]
  },
  {
   "cell_type": "markdown",
   "metadata": {},
   "source": [
    "<font color=#505050 size=4.5 face='arial black'>Warm-Up 2: A list of the unique</font> <br>"
   ]
  },
  {
   "cell_type": "code",
   "execution_count": 311,
   "metadata": {
    "collapsed": false
   },
   "outputs": [
    {
     "name": "stdout",
     "output_type": "stream",
     "text": [
      "string.digits:  0123456789\n",
      "\n",
      "data:  ['8', '3', '8', '1', '7', '8', '1', '5', '6', '1', '3', '7', '3', '2', '0', '5', '8', '8', '7', '2', '1', '6', '7', '4', '6', '7', '8', '5', '4', '0', '3', '1', '3', '0', '6', '8', '3', '9', '0', '7', '8', '6', '6', '3', '5', '5', '2', '3', '0', '9', '8', '5', '7', '0', '8', '5', '0', '9', '5', '3', '6', '4', '1', '3', '2', '4', '3', '7', '3', '2', '5', '8', '9', '6', '6', '6', '3', '2', '4', '4', '9', '9', '5', '5', '6', '1', '8', '0', '0', '7', '3', '8', '7', '7', '2', '9', '7', '6', '0', '1']\n"
     ]
    }
   ],
   "source": [
    "import string\n",
    "print \"string.digits: \", string.digits\n",
    "print\n",
    "data = [random.choice(string.digits) for k in range(100)]\n",
    "print \"data: \", data"
   ]
  },
  {
   "cell_type": "markdown",
   "metadata": {},
   "source": [
    "<font color=#505050 size=3 face='arial black'>\n",
    "Look at the effect of the <font color=#ff6347>set</font> container on this list\n",
    "</font>"
   ]
  },
  {
   "cell_type": "code",
   "execution_count": 312,
   "metadata": {
    "collapsed": false
   },
   "outputs": [
    {
     "name": "stdout",
     "output_type": "stream",
     "text": [
      "set(['1', '0', '3', '2', '5', '4', '7', '6', '9', '8'])\n"
     ]
    }
   ],
   "source": [
    "print set(data)"
   ]
  },
  {
   "cell_type": "markdown",
   "metadata": {},
   "source": [
    "<font color=#505050 size=3 face='arial black'>\n",
    "The <font color=#ff6347>set</font> container saves one copy of each element of the list\n",
    "</font>"
   ]
  },
  {
   "cell_type": "markdown",
   "metadata": {},
   "source": [
    "<font color=#505050 size=3 face='arial black'>\n",
    "Sets are optimized for finding things fast (but lacks the ability to have duplicates).\n",
    "</font>"
   ]
  },
  {
   "cell_type": "code",
   "execution_count": 313,
   "metadata": {
    "collapsed": true
   },
   "outputs": [],
   "source": [
    "list_var = range(100000)\n",
    "set_var = set(list_var)"
   ]
  },
  {
   "cell_type": "code",
   "execution_count": 314,
   "metadata": {
    "collapsed": false
   },
   "outputs": [
    {
     "name": "stdout",
     "output_type": "stream",
     "text": [
      "1000 loops, best of 3: 1.54 ms per loop\n"
     ]
    }
   ],
   "source": [
    "%timeit 100000 in list_var"
   ]
  },
  {
   "cell_type": "code",
   "execution_count": 315,
   "metadata": {
    "collapsed": false
   },
   "outputs": [
    {
     "name": "stdout",
     "output_type": "stream",
     "text": [
      "10000000 loops, best of 3: 51.9 ns per loop\n"
     ]
    }
   ],
   "source": [
    "%timeit 100000 in set_var"
   ]
  },
  {
   "cell_type": "markdown",
   "metadata": {},
   "source": [
    "<font color=#505050 size=3 face='arial black'>\n",
    "It can more than a thousand times faster to check membership in a set vs. a list\n",
    "</font>"
   ]
  },
  {
   "cell_type": "markdown",
   "metadata": {},
   "source": [
    "<br>\n",
    "<center><font color=#505050 size=5 face='Consolas'>Can you think of a way to write a function that takes a list as input and returns a new list containing only one copy of each element of the original list?\n",
    "</font></center>\n",
    "<br>"
   ]
  },
  {
   "cell_type": "code",
   "execution_count": 316,
   "metadata": {
    "collapsed": false,
    "scrolled": true
   },
   "outputs": [
    {
     "name": "stdout",
     "output_type": "stream",
     "text": [
      "def unique(input):\n",
      "\treturn list(set(input))\n",
      "\n",
      "print unique(data) \n",
      "\n",
      "['1', '0', '3', '2', '5', '4', '7', '6', '9', '8']\n"
     ]
    }
   ],
   "source": [
    "answer = unhide('7fxL9BqzH3PB9LlPbkqnax0pQR/URCIECUioesGFOmrnmvfNvfQojAB1vYq9X0kgT5KxyicIz0L9ErQjoDCr7A==')\n",
    "print answer\n",
    "print\n",
    "exec(answer)"
   ]
  },
  {
   "cell_type": "markdown",
   "metadata": {},
   "source": [
    "<font color=#505050 size=4.5 face='arial black'>Warm-Up 3: Craziest way to write a function</font> <br>"
   ]
  },
  {
   "cell_type": "markdown",
   "metadata": {},
   "source": [
    "<font color=#505050 size=3 face='arial black'>\n",
    "The two basic ways to write a function in python.\n",
    "</font>"
   ]
  },
  {
   "cell_type": "code",
   "execution_count": 321,
   "metadata": {
    "collapsed": false
   },
   "outputs": [
    {
     "name": "stdout",
     "output_type": "stream",
     "text": [
      "f(2):  1\n",
      "\n",
      "g(2):  -3\n"
     ]
    }
   ],
   "source": [
    "def f(x):\n",
    "    return x-1\n",
    "\n",
    "g = lambda x: x-5\n",
    "\n",
    "print \"f(2): \", f(2)\n",
    "print\n",
    "print \"g(2): \", g(2)"
   ]
  },
  {
   "cell_type": "markdown",
   "metadata": {},
   "source": [
    "<font color=#505050 size=3 face='arial black'>\n",
    "You can use <font color=#ff6347>exec</font> to run any code in a text string. So you can automate the generation of code while your code is running and run it.\n",
    "</font>"
   ]
  },
  {
   "cell_type": "code",
   "execution_count": 319,
   "metadata": {
    "collapsed": false
   },
   "outputs": [
    {
     "name": "stdout",
     "output_type": "stream",
     "text": [
      "2\n"
     ]
    }
   ],
   "source": [
    "exec('z=2')\n",
    "print z"
   ]
  },
  {
   "cell_type": "markdown",
   "metadata": {},
   "source": [
    "<font color=#505050 size=3 face='arial black'>\n",
    "This is code that not only writes new code, but runs that code\n",
    "</font>"
   ]
  },
  {
   "cell_type": "code",
   "execution_count": 322,
   "metadata": {
    "collapsed": false
   },
   "outputs": [
    {
     "name": "stdout",
     "output_type": "stream",
     "text": [
      "def f(x): return x**2\n"
     ]
    }
   ],
   "source": [
    "from math import exp, log\n",
    "\n",
    "code = \"def f(x): return \"+random.choice(['2*x','x**2','2**x','x/2.0'])\n",
    "print code\n",
    "exec(code)"
   ]
  },
  {
   "cell_type": "code",
   "execution_count": 323,
   "metadata": {
    "collapsed": false
   },
   "outputs": [
    {
     "data": {
      "text/plain": [
       "9"
      ]
     },
     "execution_count": 323,
     "metadata": {},
     "output_type": "execute_result"
    }
   ],
   "source": [
    "f(3)"
   ]
  },
  {
   "cell_type": "markdown",
   "metadata": {},
   "source": [
    "<font color=#505050 size=3 face='arial black'>\n",
    "A practical use of this might be to fit a model to your data and then generate a script that your collaborators can use to run your model on their data.\n",
    "</font>"
   ]
  },
  {
   "cell_type": "markdown",
   "metadata": {},
   "source": [
    "<font color=#505050 size=4.5 face='arial black'>Final Warm-Up: The Tally Problem</font> <br>"
   ]
  },
  {
   "cell_type": "code",
   "execution_count": 324,
   "metadata": {
    "collapsed": false
   },
   "outputs": [
    {
     "name": "stdout",
     "output_type": "stream",
     "text": [
      "['2', '5', '4', '1', '0', '6', '1', '2', '8', '7', '9', '0', '1', '3', '5', '3', '4', '3', '2', '5', '2', '0', '3', '1', '0', '0', '1', '5', '9', '5', '7', '6', '0', '5', '9', '4', '9', '7', '2', '7', '6', '3', '9', '7', '8', '4', '5', '1', '7', '8', '4', '8', '0', '2', '5', '8', '4', '8', '7', '7', '0', '7', '1', '0', '1', '5', '4', '9', '7', '9', '5', '3', '7', '2', '6', '7', '1', '9', '0', '7', '3', '8', '6', '2', '5', '0', '2', '7', '3', '8', '5', '6', '2', '0', '5', '3', '5', '6', '3', '1']\n"
     ]
    }
   ],
   "source": [
    "data = [random.choice(string.digits) for k in range(100)]\n",
    "print data"
   ]
  },
  {
   "cell_type": "markdown",
   "metadata": {},
   "source": [
    "<br>\n",
    "<center><font color=#505050 size=5 face='Consolas'>Write code that tallies <font color=#ff6347>data</font> and creates a dictionary where each unique member of data is a key and the value is a count of the occurences of that member.\n",
    "<br>\n",
    "<br>\n",
    "Hint: data.count(1)\n",
    "</font></center>\n",
    "<br>"
   ]
  },
  {
   "cell_type": "code",
   "execution_count": 325,
   "metadata": {
    "collapsed": false
   },
   "outputs": [
    {
     "name": "stdout",
     "output_type": "stream",
     "text": [
      "print dict(map(lambda x: (x,data.count(x)), list(set(data)) ))  \n",
      "\n",
      "{'1': 10, '0': 12, '3': 10, '2': 10, '5': 14, '4': 7, '7': 14, '6': 7, '9': 8, '8': 8}\n"
     ]
    }
   ],
   "source": [
    "answer = unhide(\"LTcDyMzuixMJcyILwtnHrjHjiuwQEFD+cTbO0hbjIYWByP0YYKV4YuHXBFUHQc/4iWtFp3G/kQ/bsghq4dkCKw==\")\n",
    "print answer\n",
    "print\n",
    "exec(answer)"
   ]
  },
  {
   "cell_type": "code",
   "execution_count": 326,
   "metadata": {
    "collapsed": false
   },
   "outputs": [
    {
     "name": "stdout",
     "output_type": "stream",
     "text": [
      "from collections import Counter\n",
      "print Counter(data)\n",
      "print\n",
      "print dict(Counter(data))             \n",
      "\n",
      "Counter({'5': 14, '7': 14, '0': 12, '1': 10, '3': 10, '2': 10, '9': 8, '8': 8, '4': 7, '6': 7})\n",
      "\n",
      "{'1': 10, '0': 12, '3': 10, '2': 10, '5': 14, '4': 7, '7': 14, '6': 7, '9': 8, '8': 8}\n"
     ]
    }
   ],
   "source": [
    "answer = unhide('B/gOpH9Yu+ckDGTn728jQ7QLk9KfNmjR9izxsaQNwAdMM5qbNZXnL2NT2PGeSuhTgjMClAyvnRWinsWW5CysegA3JmQfzLnJMVc148w3nllldK4O3csQw8bLSo+poVYF')\n",
    "print answer\n",
    "print\n",
    "exec(answer)"
   ]
  },
  {
   "cell_type": "markdown",
   "metadata": {},
   "source": [
    "<br><br><center><font color=#ff6347 size=6 face='arial black'>A short discussion of mutability and immutability</font></center><br><br>"
   ]
  },
  {
   "cell_type": "code",
   "execution_count": 327,
   "metadata": {
    "collapsed": false
   },
   "outputs": [
    {
     "name": "stdout",
     "output_type": "stream",
     "text": [
      "original: [0, 1, 2, 3, 4, 5, 6, 7, 8, 9, 10, 11, 12, 13, 14]\n",
      "\n",
      "shuffled: [14, 9, 3, 1, 5, 6, 7, 8, 12, 11, 2, 13, 10, 0, 4]\n"
     ]
    }
   ],
   "source": [
    "import random\n",
    "\n",
    "x = range(15)\n",
    "print 'original:', x\n",
    "print\n",
    "random.shuffle(x)\n",
    "print 'shuffled:',x"
   ]
  },
  {
   "cell_type": "markdown",
   "metadata": {},
   "source": [
    "<font color=#505050 size=3 face='arial black'>\n",
    "There are two basic ways to sort a list\n",
    "</font>"
   ]
  },
  {
   "cell_type": "code",
   "execution_count": 328,
   "metadata": {
    "collapsed": false
   },
   "outputs": [
    {
     "name": "stdout",
     "output_type": "stream",
     "text": [
      "before sorting:  [2, 10, 0, 13, 1, 9, 8, 4, 14, 6, 5, 12, 3, 11, 7]\n",
      "\n",
      "x after sorted command:  [0, 1, 2, 3, 4, 5, 6, 7, 8, 9, 10, 11, 12, 13, 14]\n"
     ]
    }
   ],
   "source": [
    "x = range(15)\n",
    "random.shuffle(x)\n",
    "print 'before sorting: ', x\n",
    "print\n",
    "x = sorted(x)\n",
    "print 'x after sorted command: ', x"
   ]
  },
  {
   "cell_type": "code",
   "execution_count": 329,
   "metadata": {
    "collapsed": false
   },
   "outputs": [
    {
     "name": "stdout",
     "output_type": "stream",
     "text": [
      "before sorting:  [8, 14, 9, 12, 10, 1, 0, 2, 13, 3, 7, 6, 4, 11, 5]\n",
      "\n",
      "x after sort command:  [0, 1, 2, 3, 4, 5, 6, 7, 8, 9, 10, 11, 12, 13, 14]\n"
     ]
    }
   ],
   "source": [
    "x = range(15)\n",
    "random.shuffle(x)\n",
    "print 'before sorting: ', x\n",
    "print\n",
    "x.sort()\n",
    "print 'x after sort command: ', x"
   ]
  },
  {
   "cell_type": "markdown",
   "metadata": {},
   "source": [
    "<font color=#505050 size=3 face='arial black'>\n",
    "One value changes the value of x and the other does not.\n",
    "</font>"
   ]
  },
  {
   "cell_type": "code",
   "execution_count": 330,
   "metadata": {
    "collapsed": false
   },
   "outputs": [
    {
     "name": "stdout",
     "output_type": "stream",
     "text": [
      "original x: [0, 2, 7, 5, 11, 3, 6, 12, 1, 14, 10, 9, 13, 4, 8]\n",
      "\n",
      "x after sorted(x): [0, 2, 7, 5, 11, 3, 6, 12, 1, 14, 10, 9, 13, 4, 8]\n",
      "\n",
      "y after sorted(x): [0, 1, 2, 3, 4, 5, 6, 7, 8, 9, 10, 11, 12, 13, 14]\n",
      "\n",
      "x after x.sort(): [0, 1, 2, 3, 4, 5, 6, 7, 8, 9, 10, 11, 12, 13, 14]\n"
     ]
    }
   ],
   "source": [
    "x = range(15)\n",
    "random.shuffle(x)\n",
    "y = sorted(x)\n",
    "print 'original x:', x\n",
    "print\n",
    "print 'x after sorted(x):', x\n",
    "print\n",
    "print 'y after sorted(x):', y\n",
    "print\n",
    "x.sort()\n",
    "print 'x after x.sort():', x"
   ]
  },
  {
   "cell_type": "markdown",
   "metadata": {},
   "source": [
    "<font color=#505050 size=3 face='arial black'>\n",
    "If you think about variable x as a persistent entity. The <font color=#ff6347>sorted</font> command doesn't change that persistent entity while the <font color=#ff6347>sort</font> command does.\n",
    "</font>"
   ]
  },
  {
   "cell_type": "markdown",
   "metadata": {},
   "source": [
    "<br>\n",
    "<center><font color=#505050 size=5 face='Consolas'>What's going to happen if we run the code below. What's x? What's y?\n",
    "<br>"
   ]
  },
  {
   "cell_type": "code",
   "execution_count": 331,
   "metadata": {
    "collapsed": false
   },
   "outputs": [
    {
     "name": "stdout",
     "output_type": "stream",
     "text": [
      "x: [0, 1, 2, 3, 4, 5, 6, 7, 8, 9, 10, 11, 12, 13, 14]\n",
      "\n",
      "y: [0, 1, 2, 3, 4, 5, 6, 7, 8, 9, 10, 11, 12, 13, 14]\n"
     ]
    }
   ],
   "source": [
    "x = range(15)\n",
    "random.shuffle(x)\n",
    "y = x\n",
    "y.sort()\n",
    "print 'x:', x\n",
    "print\n",
    "print 'y:', y"
   ]
  },
  {
   "cell_type": "markdown",
   "metadata": {},
   "source": [
    "<br>\n",
    "<center><font color=#505050 size=5 face='Consolas'>How about this example?  What's x? What's y?\n",
    "<br>"
   ]
  },
  {
   "cell_type": "code",
   "execution_count": 332,
   "metadata": {
    "collapsed": false
   },
   "outputs": [
    {
     "name": "stdout",
     "output_type": "stream",
     "text": [
      "x: [13, 5, 6, 7, 10, 0, 3, 1, 12, 8, 2, 14, 9, 4, 11]\n",
      "\n",
      "y: [0, 1, 2, 3, 4, 5, 6, 7, 8, 9, 10, 11, 12, 13, 14]\n"
     ]
    }
   ],
   "source": [
    "from copy import copy\n",
    "\n",
    "x = range(15)\n",
    "random.shuffle(x)\n",
    "y = copy(x)\n",
    "y.sort()\n",
    "print 'x:', x\n",
    "print\n",
    "print 'y:', y"
   ]
  },
  {
   "cell_type": "markdown",
   "metadata": {},
   "source": [
    "<br>\n",
    "<br><br><center><font color=#ff6347 size=6 face='arial black'>More about Containers</font></center><br><br>\n",
    "<br>"
   ]
  },
  {
   "cell_type": "markdown",
   "metadata": {},
   "source": [
    "<font color=#505050 size=3 face='arial black'>\n",
    "list:\n",
    "</font>"
   ]
  },
  {
   "cell_type": "code",
   "execution_count": 333,
   "metadata": {
    "collapsed": true
   },
   "outputs": [],
   "source": [
    "x = []\n",
    "x = list()"
   ]
  },
  {
   "cell_type": "markdown",
   "metadata": {},
   "source": [
    "<font color=#505050 size=3 face='arial black'>\n",
    "dict:\n",
    "</font>"
   ]
  },
  {
   "cell_type": "code",
   "execution_count": 334,
   "metadata": {
    "collapsed": true
   },
   "outputs": [],
   "source": [
    "y = {}\n",
    "y = dict()"
   ]
  },
  {
   "cell_type": "markdown",
   "metadata": {},
   "source": [
    "<font color=#505050 size=3 face='arial black'>\n",
    "What can you do with a list? I could just spell out the functions for you. But we are going to do it in a more pythonic way. Let's use the <font color=#ff6347>dir</font> function\n",
    "<br>\n",
    "<br>\n",
    "The <font color=#ff6347>dir</font> function lets you everything you can do to a variable of the type that you feed into it. For instance, you can feed in the type list, or you can feed in an example of a list.\n",
    "</font>"
   ]
  },
  {
   "cell_type": "code",
   "execution_count": 336,
   "metadata": {
    "collapsed": false
   },
   "outputs": [
    {
     "data": {
      "text/plain": [
       "['__add__',\n",
       " '__class__',\n",
       " '__contains__',\n",
       " '__delattr__',\n",
       " '__delitem__',\n",
       " '__delslice__',\n",
       " '__doc__',\n",
       " '__eq__',\n",
       " '__format__',\n",
       " '__ge__',\n",
       " '__getattribute__',\n",
       " '__getitem__',\n",
       " '__getslice__',\n",
       " '__gt__',\n",
       " '__hash__',\n",
       " '__iadd__',\n",
       " '__imul__',\n",
       " '__init__',\n",
       " '__iter__',\n",
       " '__le__',\n",
       " '__len__',\n",
       " '__lt__',\n",
       " '__mul__',\n",
       " '__ne__',\n",
       " '__new__',\n",
       " '__reduce__',\n",
       " '__reduce_ex__',\n",
       " '__repr__',\n",
       " '__reversed__',\n",
       " '__rmul__',\n",
       " '__setattr__',\n",
       " '__setitem__',\n",
       " '__setslice__',\n",
       " '__sizeof__',\n",
       " '__str__',\n",
       " '__subclasshook__',\n",
       " 'append',\n",
       " 'count',\n",
       " 'extend',\n",
       " 'index',\n",
       " 'insert',\n",
       " 'pop',\n",
       " 'remove',\n",
       " 'reverse',\n",
       " 'sort']"
      ]
     },
     "execution_count": 336,
     "metadata": {},
     "output_type": "execute_result"
    }
   ],
   "source": [
    "dir([])"
   ]
  },
  {
   "cell_type": "code",
   "execution_count": 337,
   "metadata": {
    "collapsed": false
   },
   "outputs": [
    {
     "data": {
      "text/plain": [
       "['__add__',\n",
       " '__class__',\n",
       " '__contains__',\n",
       " '__delattr__',\n",
       " '__delitem__',\n",
       " '__delslice__',\n",
       " '__doc__',\n",
       " '__eq__',\n",
       " '__format__',\n",
       " '__ge__',\n",
       " '__getattribute__',\n",
       " '__getitem__',\n",
       " '__getslice__',\n",
       " '__gt__',\n",
       " '__hash__',\n",
       " '__iadd__',\n",
       " '__imul__',\n",
       " '__init__',\n",
       " '__iter__',\n",
       " '__le__',\n",
       " '__len__',\n",
       " '__lt__',\n",
       " '__mul__',\n",
       " '__ne__',\n",
       " '__new__',\n",
       " '__reduce__',\n",
       " '__reduce_ex__',\n",
       " '__repr__',\n",
       " '__reversed__',\n",
       " '__rmul__',\n",
       " '__setattr__',\n",
       " '__setitem__',\n",
       " '__setslice__',\n",
       " '__sizeof__',\n",
       " '__str__',\n",
       " '__subclasshook__',\n",
       " 'append',\n",
       " 'count',\n",
       " 'extend',\n",
       " 'index',\n",
       " 'insert',\n",
       " 'pop',\n",
       " 'remove',\n",
       " 'reverse',\n",
       " 'sort']"
      ]
     },
     "execution_count": 337,
     "metadata": {},
     "output_type": "execute_result"
    }
   ],
   "source": [
    "dir([1,2,3])"
   ]
  },
  {
   "cell_type": "code",
   "execution_count": 338,
   "metadata": {
    "collapsed": false
   },
   "outputs": [
    {
     "data": {
      "text/plain": [
       "['__add__',\n",
       " '__class__',\n",
       " '__contains__',\n",
       " '__delattr__',\n",
       " '__delitem__',\n",
       " '__delslice__',\n",
       " '__doc__',\n",
       " '__eq__',\n",
       " '__format__',\n",
       " '__ge__',\n",
       " '__getattribute__',\n",
       " '__getitem__',\n",
       " '__getslice__',\n",
       " '__gt__',\n",
       " '__hash__',\n",
       " '__iadd__',\n",
       " '__imul__',\n",
       " '__init__',\n",
       " '__iter__',\n",
       " '__le__',\n",
       " '__len__',\n",
       " '__lt__',\n",
       " '__mul__',\n",
       " '__ne__',\n",
       " '__new__',\n",
       " '__reduce__',\n",
       " '__reduce_ex__',\n",
       " '__repr__',\n",
       " '__reversed__',\n",
       " '__rmul__',\n",
       " '__setattr__',\n",
       " '__setitem__',\n",
       " '__setslice__',\n",
       " '__sizeof__',\n",
       " '__str__',\n",
       " '__subclasshook__',\n",
       " 'append',\n",
       " 'count',\n",
       " 'extend',\n",
       " 'index',\n",
       " 'insert',\n",
       " 'pop',\n",
       " 'remove',\n",
       " 'reverse',\n",
       " 'sort']"
      ]
     },
     "execution_count": 338,
     "metadata": {},
     "output_type": "execute_result"
    }
   ],
   "source": [
    "dir(list)"
   ]
  },
  {
   "cell_type": "markdown",
   "metadata": {},
   "source": [
    "<br>\n",
    "<center><font color=#505050 size=5 face='Consolas'>Can anybody tell me the structure of the output of the <font color=#ff6347>dir([])</font> command?\n",
    "</font></center>\n",
    "<br>"
   ]
  },
  {
   "cell_type": "code",
   "execution_count": 339,
   "metadata": {
    "collapsed": false
   },
   "outputs": [
    {
     "name": "stdout",
     "output_type": "stream",
     "text": [
      "result = dir([])\n",
      "print type(result)\n",
      "print\n",
      "print type(result[0]) \n",
      "\n",
      "<type 'list'>\n",
      "\n",
      "<type 'str'>\n"
     ]
    }
   ],
   "source": [
    "answer=unhide('Dy9D1U9jt/ycNZlywkV2HB7yWOPlLyLL6hP/qC2gXcqKUDLsbacLalq3OzT6th/JJEr5FEvhM7hIleTpN+2R+A==')\n",
    "print answer\n",
    "print\n",
    "exec(answer)"
   ]
  },
  {
   "cell_type": "markdown",
   "metadata": {},
   "source": [
    "<font color=#505050 size=3 face='arial black'>\n",
    "Functions with underscore typically mean not intended to be used directly.\n",
    "</font>"
   ]
  },
  {
   "cell_type": "markdown",
   "metadata": {},
   "source": [
    "<font color=#505050 size=4.5 face='arial black'>Magic functions</font> <br>"
   ]
  },
  {
   "cell_type": "code",
   "execution_count": 340,
   "metadata": {
    "collapsed": false
   },
   "outputs": [
    {
     "name": "stdout",
     "output_type": "stream",
     "text": [
      "[1, 2, 3]\n",
      "\n",
      "[1, 2, 3]\n"
     ]
    }
   ],
   "source": [
    "print [1,2].__add__([3])\n",
    "print\n",
    "print [1,2] + [3]"
   ]
  },
  {
   "cell_type": "markdown",
   "metadata": {},
   "source": [
    "<font color=#505050 size=3 face='arial black'>\n",
    "<p><font color=#ff6347> Magic functions </font> give you a way to talk about symbolic operations in python. This information will be useful later.</p>\n",
    "\n",
    "<p>Let's clean up the list of functions inside python</p>\n",
    "</font>"
   ]
  },
  {
   "cell_type": "code",
   "execution_count": 341,
   "metadata": {
    "collapsed": false,
    "scrolled": true
   },
   "outputs": [
    {
     "name": "stdout",
     "output_type": "stream",
     "text": [
      "['append', 'count', 'extend', 'index', 'insert', 'pop', 'remove', 'reverse', 'sort']\n"
     ]
    }
   ],
   "source": [
    "print [function for function in dir([]) if not function.startswith('_')]"
   ]
  },
  {
   "cell_type": "markdown",
   "metadata": {},
   "source": [
    "<font color=#505050 size=3 face='arial black'>\n",
    "The tuple is a simpler version of list that's not mutable.\n",
    "</font>"
   ]
  },
  {
   "cell_type": "code",
   "execution_count": 342,
   "metadata": {
    "collapsed": false
   },
   "outputs": [
    {
     "name": "stdout",
     "output_type": "stream",
     "text": [
      "['count', 'index']\n"
     ]
    }
   ],
   "source": [
    "print [function for function in dir(tuple([])) if not function.startswith('_')]"
   ]
  },
  {
   "cell_type": "code",
   "execution_count": 343,
   "metadata": {
    "collapsed": false
   },
   "outputs": [
    {
     "name": "stdout",
     "output_type": "stream",
     "text": [
      "['clear', 'copy', 'fromkeys', 'get', 'has_key', 'items', 'iteritems', 'iterkeys', 'itervalues', 'keys', 'pop', 'popitem', 'setdefault', 'update', 'values', 'viewitems', 'viewkeys', 'viewvalues']\n"
     ]
    }
   ],
   "source": [
    "print [function for function in dir({}) if not function.startswith('_')]"
   ]
  },
  {
   "cell_type": "code",
   "execution_count": 344,
   "metadata": {
    "collapsed": false
   },
   "outputs": [
    {
     "name": "stdout",
     "output_type": "stream",
     "text": [
      "['add', 'clear', 'copy', 'difference', 'difference_update', 'discard', 'intersection', 'intersection_update', 'isdisjoint', 'issubset', 'issuperset', 'pop', 'remove', 'symmetric_difference', 'symmetric_difference_update', 'union', 'update']\n"
     ]
    }
   ],
   "source": [
    "print [function for function in dir(set([])) if not function.startswith('_')]"
   ]
  },
  {
   "cell_type": "code",
   "execution_count": 345,
   "metadata": {
    "collapsed": false
   },
   "outputs": [
    {
     "name": "stdout",
     "output_type": "stream",
     "text": [
      "w: <type 'dict'>\n",
      "\n",
      "x: <type 'tuple'>\n",
      "\n",
      "y: <type 'list'>\n",
      "\n",
      "z: <type 'set'>\n"
     ]
    }
   ],
   "source": [
    "w = {'a':1,'b':2,'c':3} #dictionary\n",
    "x = (1,2,3) #tuple\n",
    "y = [4,5,6] #list\n",
    "z = {5,6,7} #set\n",
    "\n",
    "print 'w:',type(w)\n",
    "print\n",
    "print 'x:',type(x)\n",
    "print\n",
    "print 'y:',type(y)\n",
    "print\n",
    "print 'z:',type(z)"
   ]
  },
  {
   "cell_type": "markdown",
   "metadata": {},
   "source": [
    "<font color=#505050 size=3 face='arial black'>\n",
    "Conversions between containers mostly works seemlessly when it makes sense:\n",
    "</font>"
   ]
  },
  {
   "cell_type": "code",
   "execution_count": 346,
   "metadata": {
    "collapsed": false,
    "scrolled": true
   },
   "outputs": [
    {
     "name": "stdout",
     "output_type": "stream",
     "text": [
      "['a', 'c', 'b']\n",
      "('a', 'c', 'b')\n",
      "set(['a', 'c', 'b'])\n"
     ]
    }
   ],
   "source": [
    "print list(w)\n",
    "print tuple(w)\n",
    "print set(w)"
   ]
  },
  {
   "cell_type": "markdown",
   "metadata": {},
   "source": [
    "<font color=#505050 size=3 face='arial black'>\n",
    "You can put anyting in lists including functions:\n",
    "</font>"
   ]
  },
  {
   "cell_type": "code",
   "execution_count": 347,
   "metadata": {
    "collapsed": false,
    "scrolled": true
   },
   "outputs": [
    {
     "name": "stdout",
     "output_type": "stream",
     "text": [
      "<type 'set'> on {'a': 1, 'c': 3, 'b': 2}: set(['a', 'c', 'b'])\n",
      "<type 'set'> on (1, 2, 3): set([1, 2, 3])\n",
      "<type 'set'> on [4, 5, 6]: set([4, 5, 6])\n",
      "<type 'set'> on set([5, 6, 7]): set([5, 6, 7])\n",
      "<type 'list'> on {'a': 1, 'c': 3, 'b': 2}: ['a', 'c', 'b']\n",
      "<type 'list'> on (1, 2, 3): [1, 2, 3]\n",
      "<type 'list'> on [4, 5, 6]: [4, 5, 6]\n",
      "<type 'list'> on set([5, 6, 7]): [5, 6, 7]\n",
      "<type 'dict'> on {'a': 1, 'c': 3, 'b': 2}: {'a': 1, 'c': 3, 'b': 2}\n",
      "<type 'dict'> on (1, 2, 3):"
     ]
    },
    {
     "ename": "TypeError",
     "evalue": "cannot convert dictionary update sequence element #0 to a sequence",
     "output_type": "error",
     "traceback": [
      "\u001b[0;31m---------------------------------------------------------------------------\u001b[0m",
      "\u001b[0;31mTypeError\u001b[0m                                 Traceback (most recent call last)",
      "\u001b[0;32m<ipython-input-347-094ffaf8088f>\u001b[0m in \u001b[0;36m<module>\u001b[0;34m()\u001b[0m\n\u001b[1;32m      4\u001b[0m \u001b[0;32mfor\u001b[0m \u001b[0mf\u001b[0m \u001b[0;32min\u001b[0m \u001b[0mfuncs\u001b[0m\u001b[0;34m:\u001b[0m\u001b[0;34m\u001b[0m\u001b[0m\n\u001b[1;32m      5\u001b[0m     \u001b[0;32mfor\u001b[0m \u001b[0mv\u001b[0m \u001b[0;32min\u001b[0m \u001b[0mvars\u001b[0m\u001b[0;34m:\u001b[0m\u001b[0;34m\u001b[0m\u001b[0m\n\u001b[0;32m----> 6\u001b[0;31m         \u001b[0;32mprint\u001b[0m \u001b[0mstr\u001b[0m\u001b[0;34m(\u001b[0m\u001b[0mf\u001b[0m\u001b[0;34m)\u001b[0m\u001b[0;34m+\u001b[0m\u001b[0;34m\" on \"\u001b[0m\u001b[0;34m+\u001b[0m\u001b[0mstr\u001b[0m\u001b[0;34m(\u001b[0m\u001b[0mv\u001b[0m\u001b[0;34m)\u001b[0m\u001b[0;34m+\u001b[0m\u001b[0;34m\":\"\u001b[0m\u001b[0;34m,\u001b[0m \u001b[0mf\u001b[0m\u001b[0;34m(\u001b[0m\u001b[0mv\u001b[0m\u001b[0;34m)\u001b[0m\u001b[0;34m\u001b[0m\u001b[0m\n\u001b[0m",
      "\u001b[0;31mTypeError\u001b[0m: cannot convert dictionary update sequence element #0 to a sequence"
     ]
    }
   ],
   "source": [
    "funcs = [set,list,dict,tuple]\n",
    "vars = [w,x,y,z]\n",
    "\n",
    "for f in funcs:\n",
    "    for v in vars:\n",
    "        print str(f)+\" on \"+str(v)+\":\", f(v)\n"
   ]
  },
  {
   "cell_type": "markdown",
   "metadata": {},
   "source": [
    "<font color=#505050 size=3 face='arial black'>\n",
    "Sometimes things don't work. Can we get around that? We sure can!\n",
    "</font>"
   ]
  },
  {
   "cell_type": "code",
   "execution_count": 358,
   "metadata": {
    "collapsed": false
   },
   "outputs": [
    {
     "name": "stdout",
     "output_type": "stream",
     "text": [
      "set on {'a': 1, 'c': 3, 'b': 2}: set(['a', 'c', 'b'])\n",
      "set on (1, 2, 3): set([1, 2, 3])\n",
      "set on [4, 5, 6]: set([4, 5, 6])\n",
      "set on set([5, 6, 7]): set([5, 6, 7])\n",
      "list on {'a': 1, 'c': 3, 'b': 2}: ['a', 'c', 'b']\n",
      "list on (1, 2, 3): [1, 2, 3]\n",
      "list on [4, 5, 6]: [4, 5, 6]\n",
      "list on set([5, 6, 7]): [5, 6, 7]\n",
      "dict on {'a': 1, 'c': 3, 'b': 2}: {'a': 1, 'c': 3, 'b': 2}\n",
      "dict on (1, 2, 3):\n",
      "dict on [4, 5, 6]:\n",
      "dict on set([5, 6, 7]):\n",
      "tuple on {'a': 1, 'c': 3, 'b': 2}: ('a', 'c', 'b')\n",
      "tuple on (1, 2, 3): (1, 2, 3)\n",
      "tuple on [4, 5, 6]: (4, 5, 6)\n",
      "tuple on set([5, 6, 7]): (5, 6, 7)\n"
     ]
    }
   ],
   "source": [
    "funcs = [set,list,dict,tuple]\n",
    "vars = [w,x,y,z]\n",
    "\n",
    "for f in funcs:\n",
    "    for v in vars:\n",
    "        try:\n",
    "            print str(f.__name__)+\" on \"+str(v)+\":\", f(v)\n",
    "        except:\n",
    "            print"
   ]
  },
  {
   "cell_type": "markdown",
   "metadata": {},
   "source": [
    "<br>\n",
    "<br><br><center><font color=#ff6347 size=6 face='arial black'>Deeper Python</font></center><br><br>\n",
    "<br>"
   ]
  },
  {
   "cell_type": "code",
   "execution_count": 363,
   "metadata": {
    "collapsed": false,
    "scrolled": true
   },
   "outputs": [
    {
     "name": "stdout",
     "output_type": "stream",
     "text": [
      "<module 'string' from '/usr/local/Cellar/python/2.7.10_2/Frameworks/Python.framework/Versions/2.7/lib/python2.7/string.pyc'>\n",
      "\n",
      "<module 'string' from '/usr/local/Cellar/python/2.7.10_2/Frameworks/Python.framework/Versions/2.7/lib/python2.7/string.pyc'>\n"
     ]
    }
   ],
   "source": [
    "import sys\n",
    "print sys.modules['string']\n",
    "print\n",
    "print string"
   ]
  },
  {
   "cell_type": "code",
   "execution_count": 364,
   "metadata": {
    "collapsed": true
   },
   "outputs": [
    {
     "data": {
      "text/plain": [
       "'numpy.core.info, pip._vendor.requests.packages.urllib3.urlparse, traitlets.config.decorator, pip._vendor.distlib.socket, distutils.sysconfig, IPython.utils.PyColorize, IPython.utils.pprint, logging.weakref, pip._vendor.distlib._backport.pwd, pprint, unittest.sys, ipykernel.traitlets, pip.status_codes, IPython.terminal.sys, pandas.computation.api, SocketServer, pandas.tools.datetime, xml.etree.sys, pandas.util.decorators, IPython.terminal.embed, jupyter_core.sys, cmd, IPython.core.magics.auto, shlex, pip._vendor.requests.packages.urllib3.util.url, IPython.core.completerlib, ipywidgets.IPython, IPython.terminal.ipapp, IPython.core.excolors, pip._vendor.requests.packages.urllib3.exceptions, zmq.utils.os, zmq.backend.cython.error, tarfile, IPython.core.mimetypes, pip._vendor.distlib._backport, IPython.utils.openpy, simplejson.decoder, pip._vendor.ipaddress, IPython.lib.collections, pandas.computation.numpy, pandas.core.types, codecs, path, traitlets.config.loader, zmq.eventloop, _markerlib._markerlib, numpy.core._internal, zmq.utils.atexit, distutils.sys, pandas.parser, ctypes._ctypes, _heapq, pandas.hashtable, zmq.sugar.constants, pip._vendor.requests.packages.urllib3.errno, pip._vendor.html5lib.treebuilders._base, pexpect.time, zmq.backend.cython._poll, encodings.latin_1, email.sys, tokenize, pandas.compat.StringIO, pandas.io.json, cPickle, pip._vendor.requests.packages.urllib3.zlib, ipykernel.comm.ipykernel, simplejson.sys, IPython.utils.encoding, IPython.lib.os, zmq.backend.cython.cPickle, pandas.algos, numpy.ctypeslib, pandas.stats.functools, jupyter_client.sys, IPython.core.shutil, zmq.backend.cython.codecs, jupyter_client.blocking.jupyter_client, fnmatch, pip._vendor.requests.collections, gnureadline, logging.cStringIO, numpy.compat, simplejson.simplejson, numpy.core.records, pip._vendor.packaging.__about__, email.message, ipykernel.zmq, email.MIMEBase, strop, IPython.core.history, pandas.io.warnings, ipython_genutils.textwrap, IPython.utils.ipstruct, pip._vendor.distlib.time, zmq.utils.collections, pandas.tools.distutils, pandas.stats.common, os.path, pandas.io.gbq, pandas.compat.types, email.base64mime, pandas.tools.collections, pandas.operator, pip.wheel, pip._vendor.requests.packages.urllib3.packages._abcoll, ipykernel.inprocess.client, pip._vendor.cachecontrol.wrapper, functools, pandas.io.uuid, distutils.fancy_getopt, pandas.collections, pandas.computation.ast, pip._vendor.distlib.re, uuid, numpy.matrixlib.defmatrix, pandas.core.operator, imp, ipywidgets.widgets.ipykernel, multiprocessing.os, pandas.util.pandas, unittest.time, zmq.zmq, pip._vendor.requests.io, IPython.extensions, zmq.eventloop.__future__, decorator, pandas.io.struct, IPython.core.magics.execution, pandas.stats.math, pandas.sparse.itertools, pandas.io.common, IPython.utils.imp, IPython.utils.sysinfo, pip._vendor.colorama.win32, IPython.testing.sys, IPython.core.magics.basic, pandas.tools, pandas.io.functools, pandas.compat.chainmap_impl, pip._vendor.requests.packages.urllib3.Queue, numpy.add_newdocs, IPython.core.macro, zmq.backend.zmq, pandas.tseries.converter, IPython.core.tempfile, pytz.pytz, numpy.random.threading, re, pip.utils.ui, email.quopri, pip._vendor.cachecontrol.threading, IPython.core.IPython, json.json, IPython.core.types, ipykernel.ctypes, pytz.pkg_resources, _locale, Crypto.Cipher.Crypto, IPython.core.magics.cProfile, traceback, ipykernel.inprocess.manager, IPython.utils.coloransi, IPython.utils._process_posix, pandas.util.os, pandas.core.pandas, pandas.tseries.api, traitlets.config.ast, pandas.io.parsers, dateutil.six, pexpect, pkg_resources._vendor.packaging._compat, numpy.core.arrayprint, pip._vendor.random, zmq.backend.cython._device, pandas.util.struct, pandas.util.subprocess, pandas.tseries.pandas, IPython.utils.os, IPython.core.magics.code, pip._vendor.requests.sys, pandas.io.html, keyword, ipython_genutils.random, ipywidgets.widgets.jupyter_client, pandas.io.zipfile, _curses, pandas.core.nanops, IPython.utils.generics, pip._vendor.distlib.contextlib, pandas.io.api, pip._vendor.lockfile, __main__, pip._vendor.cachecontrol.re, IPython.utils.terminal, ipykernel.iostream, pandas.core.gc, IPython.terminal.os, email.MIMEMultipart, unittest.difflib, numpy.lib.index_tricks, IPython.lib.clipboard, glob, pip._vendor.retrying, _sqlite3, numpy.__config__, ctypes.macholib, IPython.utils.wildcard, posixpath, numpy.lib._iotools, pandas.util.print_versions, numpy.lib.npyio, pip._vendor.html5lib.treebuilders, random, zmq.sugar.context, pip._vendor.requests.sessions, pip._vendor.cachecontrol.time, pytz.cStringIO, email.time, pandas.io.abc, IPython.core.time, pandas.util.string, xml.etree.ElementTree, pip._vendor.distlib._backport.re, numpy.lib._version, matplotlib.compat, pytz.tzinfo, ipywidgets.widgets.widget_image, pytz.UserDict, pandas.core.series, numpy.lib.type_check, traitlets.config.collections, IPython.core.prefilter, ipywidgets.widgets.widget_float, pyexpat.model, pandas.util.re, dateutil.easter, pip._vendor.distlib._backport.time, jupyter_core.paths, pandas.compat.chainmap, pandas.tools.contextlib, ipykernel.comm.traitlets, pip._vendor._markerlib.ast, pandas.io.urlparse, urllib, Crypto.Cipher.blockalgo, ipykernel.displayhook, pandas.io.httplib, IPython.core.atexit, pandas._period, pip._vendor.requests.StringIO, Queue, numpy.lib.info, ctypes, IPython.core.magics.subprocess, pandas.io.pytables, ipykernel.__future__, unittest.signal, IPython.core.magics.namespace, pip._vendor.progress.collections, pandas.core.panelnd, IPython.core.magics.atexit, six.moves, email.uu, IPython.testing, sqlite3.datetime, email.calendar, encodings.unicode_escape, IPython.core.hooks, IPython.display, pkgutil, yahoo_finance.yahoo_finance, zmq.devices.zmq, zmq.backend.cython, zmq.backend.os, numpy.core._methods, matplotlib.units, pip._vendor.progress.math, numpy, jupyter_client.uuid, pandas.calendar, pytz, pandas.core.locale, curses.sys, pip._vendor.requests.adapters, pip._vendor.requests.packages.urllib3.packages.ssl_match_hostname, multiprocessing.multiprocessing, pandas.core.contextlib, getpass, pandas.core.format, ipykernel.comm.comm, storemagic, zlib, simplejson.re, pip._vendor._markerlib.os, pip._vendor.requests.packages.urllib3.util.errno, email.random, pip._vendor.requests.packages.urllib3.email, ipykernel.thread, json.decoder, tornado.platform.auto, zmq.devices.monitoredqueuedevice, pandas.tools.pandas, io, IPython.core.struct, distutils.ConfigParser, IPython.utils.random, jupyter_client.clientabc, pip._vendor.progress, dateutil.thread, numpy.core, pip._vendor.requests.packages.urllib3, wheel, zmq.os, rfc822, pandas._testing, pandas.io.traceback, pandas.stats.moments, pip._vendor.progress.datetime, pandas.io, jupyter_client.traitlets, IPython.core.magics.StringIO, IPython.core.usage, dateutil.collections, pkg_resources._vendor.packaging, _weakref, IPython.core.inputtransformer, urlparse, ctypes.macholib.dylib, gzip, IPython.core, ipywidgets.widgets.widget_button, _bisect, zmq.glob, ipykernel.pickleutil, pip._vendor.requests.packages.urllib3.urllib, distutils.command.types, matplotlib.colors, ipython_genutils.path, pandas.io.date_converters, numpy.random.info, IPython.utils.strdispatch, jupyter_client.random, pip.utils.outdated, sqlite3._sqlite3, collections, IPython.lib.inputhook, unittest.main, ConfigParser, IPython.extensions.sys, pandas.io.time, pkg_resources._vendor.packaging._structures, textwrap, IPython.lib.subprocess, pip._vendor.requests.cookielib, tornado.util, pandas.tseries.frequencies, pexpect.traceback, ipykernel.math, zmq.backend.cython._version, IPython.core.inputsplitter, pip._vendor.cachecontrol.caches.os, matplotlib.path, IPython.terminal.warnings, pip._vendor.requests.packages.urllib3.packages.six.moves, IPython.core.getopt, pandas.core.panel, pandas.util.locale, numpy.core.getlimits, pandas.datetime, logging.traceback, pandas.sparse.list, tornado.stack_context, pip._vendor.requests.packages.urllib3.logging, pip._vendor.cachecontrol.io, pandas.core.config_init, pip._vendor.requests.packages.urllib3.util.binascii, mpl_toolkits, traitlets.config.ipython_genutils, pip._vendor.requests.os, Crypto, pandas.computation.functools, pip._vendor.distlib.compat, pip._vendor.distlib.types, pip._vendor.distlib.py_compile, pandas.tseries.functools, IPython.utils.contexts, dateutil.__future__, numpy.linalg.lapack_lite, marshal, pip._vendor.requests.time, IPython.lib.deepreload, pip._vendor.requests.packages.urllib3.packages.sys, jupyter_client.blocking.Queue, distutils.dir_util, distutils.command, dateutil.rrule, pandas.core.api, pandas.tseries, pip._vendor.requests.packages.urllib3.util.request, IPython.utils.tokenutil, _socket, IPython.utils.rlineimpl, email.Utils, IPython.core.glob, IPython.core.abc, pip._vendor._markerlib, pip._vendor.distlib.resources, pandas.compat.cStringIO, curses.wrapper, zmq.backend, IPython.utils.pexpect, zmq.utils.threading, IPython.core.magics.inspect, IPython.core.magics.pylab, pandas.core.categorical, numpy.fft, IPython.paths, numpy.random.numpy, pip._vendor.requests.packages.urllib3.codecs, pandas.tseries.numpy, mimetools, pip._vendor.requests.simplejson, pip._vendor.requests.certs, ipywidgets.widgets.interaction, pip._vendor.requests.compat, pandas.stats.numpy, numpy.polynomial.polynomial, pip._vendor.requests.base64, traitlets.config.traitlets, IPython.core.string, pip._vendor.distlib._backport.copy, pandas.compat.thread, jupyter_client.client, pip.locations, genericpath, IPython.utils.io, urllib2, ipykernel.time, ipykernel.os, simplejson.compat, ctypes.ctypes, IPython.utils.functools, pandas.tseries.matplotlib, pip._vendor.html5lib.treewalkers, distutils.command.os, ipywidgets.widgets.eventful, pandas.version, ipykernel.jsonutil, IPython.utils.signatures, time, pandas.compat.cPickle, pandas.tools.types, IPython.core.error, pip.req.req_file, pip._vendor.requests.hashlib, pandas.tseries.sys, ipykernel.inprocess.blocking, IPython.core.argparse, pandas.core.frame, pip._vendor.distlib.util, IPython.utils.simplegeneric, pandas.core.tokenize, string, _elementtree, pandas.util.warnings, email.quoprimime, matplotlib._path, subprocess, numpy.core.machar, zmq.backend.cython.utils, IPython.core.displayhook, numpy.ma.extras, IPython.core.ultratb, multiprocessing, dis, pandas.computation.abc, compileall, IPython.core.splitinput, IPython.lib.types, dateutil.zoneinfo.tarfile, pip._vendor.time, pandas.computation.expr, pytz.datetime, IPython.utils.tempfile, IPython.extensions.textwrap, IPython.lib.getpass, ipython_genutils.sys, xml.sax.io, pandas.stats.warnings, pip._vendor.requests.packages.urllib3._collections, pandas.core.csv, yahoo_finance.datetime, numpy.fft.helper, pip._vendor.cachecontrol.serialize, IPython.lib, _ctypes, exceptions, pip._vendor.requests.packages.urllib3.util.ssl_, pandas.core.common, pip._vendor.distlib.csv, IPython.core.shadowns, pexpect.stat, traitlets.config.json, email.socket, pip._vendor.requests.packages.urllib3.threading, weakref, traitlets, dateutil.dateutil, IPython.core.display, numpy.lib.arraypad, IPython.terminal, pandas.core.groupby, encodings.binascii, pip._vendor.html5lib.serializer, pip._vendor.distlib.zipimport, pip._vendor._markerlib.sys, pip._vendor, pandas.core.functools, email.FeedParser, IPython.core.json, pandas.numpy, pip._vendor.progress.spinner, email.charset, IPython, logging.re, IPython.core.subprocess, zmq.eventloop.tornado, pandas.stats.ols, pip._vendor.distlib.ssl, email.MIMEMessage, email._parseaddr, pip._vendor.distlib.codecs, distutils.errno, traitlets.utils.inspect, IPython.core.magics.errno, zmq.sugar.threading, IPython.core.ast, pip._vendor.distlib.os, pip._vendor.cachecontrol.pip, IPython.core.getipython, pandas.tools.operator, IPython.core.magics.display, numpy.core.fromnumeric, _ast, IPython.utils.process, IPython.terminal.bdb, tornado.concurrent, pickle, xml.sax.types, numpy.lib.polynomial, distutils.email, ipykernel.comm.ipython_genutils, pandas.core.keyword, pip._vendor.colorama.sys, pandas.sparse, xml.etree.ElementPath, pip._vendor.requests.socket, IPython.shutil, pandas.msgpack, pip.utils.pip, IPython.core.magics.logging, pip._vendor.requests.packages.urllib3.util.socket, IPython.lib.warnings, numpy.lib.utils, dateutil.relativedelta, repr, pexpect.os, codeop, numpy.lib.arrayterator, email.parser, zmq.sugar.atexit, IPython.core.magics.time, pandas.core.collections, pandas.computation.pprint, _weakrefset, zmq.backend.select, pandas.distutils, pip._vendor._markerlib.weakref, unittest.traceback, ipywidgets.widgets.widget, IPython.core.traitlets, tty, pandas.core.base, zmq.sugar, email.MIMEImage, pandas.io.distutils, ipykernel.inprocess.ipython_genutils, jupyter_client._version, numpy.polynomial.legendre, jupyter_core.os, ipykernel.inprocess.channels, IPython.lib.platform, platform, IPython.core.magics.pstats, pip.utils.logging, numpy.core.scalarmath, pip._vendor.cachecontrol.compat, pip._vendor.distlib._backport.os, pexpect.codecs, unittest.functools, IPython.core.traceback, unittest.util, pandas.core.numbers, IPython.extensions.traitlets, pandas.tslib, email.encoders, pip._vendor.requests.packages.urllib3.packages.thread, pandas.io.excel, traitlets.utils.ipython_genutils, ctypes.macholib.framework, zmq.sugar.frame, distutils.dist, IPython.core.magics.history, zmq.backend.cython.struct, unittest.re, pip._vendor.requests.api, ipykernel.signal, IPython.utils, pkg_resources._vendor.packaging.__about__, IPython.core.magics.IPython, IPython.utils.capture, pandas.io.packers, pip._vendor.requests.status_codes, _markerlib.weakref, pip._vendor.requests.packages.urllib3.util.base64, IPython.core.errno, pip._vendor.colorama, pandas.sparse.api, pip._vendor.requests.packages.urllib3.socket, IPython.core.re, pandas.core.sys, pip._vendor.colorama.ctypes, pkg_resources._vendor.packaging.version, ctypes.macholib.os, pandas.tseries.period, pip._vendor.distlib.pkgutil, ipykernel.uuid, xml.parsers.pyexpat, array, pip._vendor.lockfile.mkdirlockfile, pip._vendor.html5lib, IPython.core.magics.config, ipykernel.atexit, pytz.exceptions, IPython.utils._sysinfo, pip._vendor.distlib, pandas.core.math, types, _codecs, pip._vendor.requests.packages.urllib3.connectionpool, IPython.core.unicodedata, _osx_support, pandas.computation.struct, IPython.extensions.inspect, pandas.util.contextlib, distutils.config, copy, IPython.lib.ctypes, ipywidgets.widgets.sys, pandas.util.terminal, pandas.sparse.array, unittest.weakref, IPython.utils.struct, posix, pip._vendor._markerlib.markers, pip._vendor.cachecontrol.functools, pip._vendor.requests.packages.urllib3.util.logging, pip._vendor.requests.codecs, pandas.tseries.offsets, zmq.utils.itertools, numpy.lib.shape_base, numpy._import_tools, IPython.core.threading, zmq.eventloop.zmq, dateutil.zoneinfo.dateutil, numpy.fft.info, xml.etree.cElementTree, unittest.result, ipython_genutils.os, IPython.core.pprint, IPython.core.magics.__future__, pip._vendor.requests.packages.urllib3.util.collections, ipykernel.base64, tornado, ipykernel.getpass, pexpect.errno, pip.vcs.git, future_builtins, numpy.lib.scimath, pandas.compat.heapq, linecache, ipywidgets.widgets.trait_types, jupyter_client.zmq, hmac, pandas.time, pip._vendor.cachecontrol.zlib, jupyter_client.json, datetime, distutils.getopt, pip._vendor.distlib._backport.__builtin__, ipykernel.datapub, xml, logging.stat, pandas.core.ops, IPython.core.magic, _json, ipykernel.cPickle, pyexpat.errors, traitlets.config.argparse, IPython.lib.contextlib, cProfile, pandas.warnings, pandas.util, IPython.lib.re, zipfile, zmq.backend.cython.threading, pip._vendor.requests.structures, ssl, numpy.version, tornado.platform.posix, resource, traitlets.config, pydoc, threading, pip._vendor.distlib.collections, Crypto.Cipher.sys, IPython.lib.datetime, IPython.core.events, email.Message, pandas.random, zmq.eventloop.ioloop, ctypes.macholib.re, pip._vendor.lockfile.linklockfile, pexpect.sys, calendar, ipywidgets, pip._vendor.requests.packages.urllib3.packages.ssl_match_hostname.ssl, pip._vendor.distlib.glob, timeit, zmq.devices.basedevice, plistlib, pandas.util.datetime, jupyter_client.managerabc, IPython.lib.io, pandas.io.dateutil, zmq.sys, _MozillaCookieJar, pip._vendor.itertools, pandas.compat.operator, fcntl, unittest.case, pip._vendor.cachecontrol.urlparse, IPython.utils.path, distutils.os, jupyter_client.localinterfaces, dateutil.zoneinfo.logging, pandas.sparse.scipy_sparse, IPython.utils._process_common, pickleshare, ipykernel.ipykernel, json.re, pip._vendor.requests.packages.urllib3.mimetypes, pip._vendor._markerlib.platform, pip.req.req_uninstall, distutils.spawn, opcode, pstats, ipykernel.inprocess.ipykernel, unittest, logging.errno, pandas.io.sys, pandas.util.traceback, jupyter_client.hashlib, numpy.polynomial.laguerre, sre_constants, IPython.lib.backgroundjobs, numpy.core.function_base, _random, certifi, pip._vendor.distlib.tempfile, pandas.sparse.operator, pip._vendor.packaging, logging.cPickle, Crypto.Cipher._AES, email.MIMENonMultipart, ipykernel.inprocess.socket, dateutil.io, pip._vendor.html5lib.tokenizer, pip._vendor.distlib._backport.stat, pip.baseparser, pandas.io.csv, IPython.core.magics.os, pkg_resources._vendor.packaging.specifiers, pip._vendor.html5lib.inputstream, pandas.util.inspect, pyexpat, shutil, pandas.io.datetime, pip._vendor.requests.packages, pandas.thread, IPython.core.magics.timeit, IPython.core.magics.script, pandas.tseries.re, pip.commands, numpy.random, multiprocessing.subprocess, importlib.sys, jupyter_client, matplotlib.fontconfig_pattern, pip.commands.wheel, IPython.core.StringIO, ipywidgets.widgets.widget_output, heapq, pip._vendor.requests.packages.urllib3.poolmanager, pip._vendor.distlib.__future__, pip._vendor.struct, IPython.core.os, pandas._sparse, ctypes.macholib.itertools, pip._vendor.requests.logging, IPython.utils.tokenize2, pandas.tools.re, pip._vendor.colorama.re, email.Parser, distutils.types, traitlets.utils, pandas.io.itertools, pip.operations.freeze, jupyter_client.channelsabc, zmq.sugar.errno, pexpect.types, IPython.core.magics.bdb, IPython.utils.frame, IPython.core.payloadpage, ipykernel.types, decimal, IPython.core.imp, pandas.core.config, pandas.compat.openpyxl_compat, email.Generator, IPython.core.magic_arguments, email.MIMEAudio, IPython.extensions.__future__, zmq.utils.jsonapi, pip.models.pip, email.errors, pandas.compat.sys, IPython.terminal.__future__, inspect, pandas.io.__future__, sqlite3.dbapi2, pip._vendor.distlib._backport.sys, ipykernel.inprocess, email.Iterators, numpy.core.memmap, pandas.compat.re, pandas.sparse.frame, email.Charset, zmq.eventloop.sys, IPython.core.pdb, simplegeneric, pip._vendor.requests.urllib2, numpy.core.shape_base, curses, pip._vendor.requests.packages.urllib3.sys, operator, pandas.computation.distutils, pip._vendor.requests.models, IPython.core.magics.ast, traitlets.config.os, IPython.core.magics.json, IPython.lib.imp, Cookie, _warnings, IPython.core.latex_symbols, pip.utils.filesystem, IPython.utils.__future__, zmq.backend.cython.zmq, pip._vendor.requests, IPython.utils.types, ipykernel.heartbeat, yahoo_finance.simplejson, pip.req.req_set, pandas.tools.pivot, logging.SocketServer, ipykernel.ipython_genutils, pip.commands.uninstall, dateutil.datetime, pip._vendor.requests.packages.urllib3.uuid, pandas.util.distutils, zmq.utils.zmq, IPython.utils.time, pandas.compat.pickle, pip._vendor.requests.packages.urllib3.util.ssl, IPython.lib.hashlib, distutils.warnings, IPython.utils.glob, logging.types, IPython.core.release, pip._vendor.distlib._backport.errno, numpy.core.defchararray, gettext, _abcoll, IPython.lib.security, zmq.eventloop.Queue, mimetypes, IPython.core.formatters, IPython.warnings, symbol, unittest.signals, email.utils, numpy.testing.nosetester, pandas.computation.common, matplotlib.dates, pandas.io.clipboard, pandas.computation, token, traitlets.re, IPython.utils.py3compat, logging.atexit, pandas.computation.time, traitlets.config.sys, zmq.sugar.weakref, pandas.tseries.resample, pip.commands.list, runpy, pty, pip._vendor.distlib.scripts, Crypto.Cipher.AES, pandas.tools.util, jupyter_client.blocking.channels, pip._vendor.distlib.struct, pip.commands.help, pandas.computation.pandas, numpy.core.umath, zmq, encodings.utf_8, json.encoder, zmq.devices.threading, unittest.StringIO, pip._vendor.requests.packages.urllib3.datetime, traitlets.log, IPython.lib.IPython, numpy.fft.fftpack_lite, IPython.lib.select, yahoo_finance.httplib, pandas.sparse.panel, ctypes.macholib.dyld, IPython.extensions.IPython, IPython.core.inspect, abc, zmq.utils.sys, py_compile, ipython_genutils.errno, jupyter_client.blocking.traitlets, zmq.devices.monitoredqueue, IPython.core.alias, IPython.core.datetime, optparse, distutils._sysconfigdata, xml.etree, pip.commands.install, ipykernel.re, zmq.utils.constant_names, pip._vendor.requests.packages.urllib3.packages, pip._vendor.requests.packages.urllib3.packages.types, IPython.utils.shutil, StringIO, pandas.core.sparse, pandas.io.pickle, yahoo_finance.yql, pandas.stats.interface, ipywidgets.os, ipykernel.itertools, pandas.core.codecs, pip._vendor.packaging._compat, pandas.core.datetools, pandas.tseries.tools, select, numpy.lib.financial, zmq.backend.cython.time, pandas.computation.eval, unittest.fnmatch, jupyter_client.session, numpy.polynomial.hermite_e, pandas.core.strings, pandas.tseries.base, pandas.compat.collections, pandas.util.testing, IPython.core.keyword, pip._vendor.html5lib.html5parser, logging, unicodedata, pip.utils.os, pip._vendor.requests.packages.urllib3.connection, zmq.sugar.tracker, encodings.aliases, matplotlib.transforms, xml.sax._exceptions, jupyter_core.version, numpy.random.warnings, jupyter_client.launcher, pandas.compat.pickle_compat, numbers, IPython.utils.shlex, IPython.utils.text, numpy.core.numeric, jupyter_client.connect, pip._vendor.cachecontrol.cache, traitlets._version, csv, zmq.utils.sixcerpt, jupyter_client.jupyter_core, htmlentitydefs, pip._vendor.distlib.threading, pip._vendor.pkg_resources, pip._vendor.requests.re, xml.etree.warnings, argparse, traitlets.config.configurable, dateutil.os, pip._vendor.requests.Cookie, zmq.devices, pytz.lazy, dateutil.struct, pandas.computation.datetime, ipywidgets.widgets.__future__, jupyter_client.datetime, traitlets.utils.sentinel, pip._vendor.distlib._backport.tarfile, numpy.linalg.info, matplotlib.rcsetup, email.urllib, Crypto.Cipher, zmq.sugar.sys, httplib, IPython.terminal.interactiveshell, zmq.backend.cython.context, pandas.index, _markerlib.ast, pandas.compat.httplib, pip._vendor.cachecontrol.filewrapper, ipywidgets.widgets.widget_box, IPython.utils.errno, IPython.core.io, multiprocessing.process, IPython.core.__future__, zmq.utils.strtypes, pip._vendor.distlib.io, pip._vendor.progress.signal, IPython.core.interactiveshell, ipykernel.kernelbase, ipykernel.errno, matplotlib.cbook, IPython.core.importlib, ast, IPython.lib.sys, simplejson.scanner, Crypto.Util, ctypes.struct, _scproxy, pip.vcs.subversion, IPython.core.logging, thread, pandas.compat.functools, jupyter_client.jupyter_client, pip.vcs, zmq.backend.platform, multiprocessing.util, pexpect.fcntl, _collections, pip._vendor.six.moves, email.Errors, IPython.utils.locale, IPython.core.magics.pdb, ctypes.sys, pandas.tseries.dateutil, ipywidgets.widgets.IPython, pandas.compat.pandas, jupyter_client.blocking, IPython.core.linecache, json._json, pandas.tseries.datetime, pip._vendor.requests.warnings, traitlets.contextlib, ipykernel.comm.sys, pandas.tools.plotting, json.sys, zmq.sugar.socket, ipython_genutils.shutil, hashlib, pandas.tools.merge, pandas.compat.distutils, numpy.lib.nanfunctions, IPython.core.hashlib, ipykernel.connect, pandas.stats.__future__, sre_compile, IPython.utils.ulinecache, IPython.core.bdb, logging.collections, email.base64, encodings.string_escape, multiprocessing.atexit, pandas.pytz, bz2, pip._vendor.requests.platform, pip._vendor.requests.packages.urllib3.util.time, curses.curses, IPython.core.completer, ipykernel.io, IPython.utils.re, encodings.ascii, zmq.backend.cython.sys, ipywidgets.widgets.base64, pandas.util.sys, zmq.backend.cython.random, pip._vendor.requests.packages.urllib3.util.select, pandas.core.algorithms, multiprocessing._multiprocessing, pip.req.req_install, yahoo_finance.urllib, IPython.core.extensions, ipykernel.inprocess.jupyter_client, ipykernel.comm, numpy.linalg.linalg, pip._vendor.requests.packages.urllib3.packages.StringIO, pandas.tseries.common, ipykernel.inprocess.zmq, jupyter_client.pprint, pandas.util.codecs, logging.os, ctypes._endian, encodings.encodings, unittest.pprint, ipywidgets.widgets.ipython_genutils, IPython.utils.dir2, numpy.linalg, pip._vendor.requests.packages.urllib3.collections, pandas.core.re, pip.utils, pip._vendor.requests.hooks, pip._vendor.distlib._backport.fnmatch, ipykernel.traceback, IPython.core.payload, _lsprof, IPython.utils._tokenize_py2, IPython.utils.hashlib, IPython.utils.IPython, _markerlib.markers, ipykernel.comm.manager, pytz.tzfile, locale, pandas.compat.__builtin__, pip._vendor.packaging.version, atexit, xml.sax.saxutils, pip.commands.freeze, IPython.core.autocall, IPython.core.sys, traitlets.sys, dateutil, pandas.dateutil, pandas.tseries.timedeltas, pip._vendor.requests.packages.urllib3.util.hashlib, pip._vendor.cachecontrol.adapter, pip._vendor.packaging._structures, _markerlib.os, struct, pandas.compat, traitlets.config.application, jupyter_client.socket, IPython.utils.decorators, numpy.fft.fftpack, pdb, pip._vendor.colorama.os, pip._vendor.html5lib.trie.py, pip._vendor.distlib.json, zmq.eventloop.zmqstream, pandas.re, unittest.collections, IPython.lib.__future__, jupyter_client.manager, logging.struct, ipykernel.threading, distutils.command.string, ipykernel.platform, pip._vendor.distlib.platform, pandas.compat.numpy, pip._vendor.pip, ipykernel.parentpoller, pip.pep425tags, pip._vendor.requests.packages.urllib3.warnings, yahoo_finance.pytz, pip._vendor.requests.packages.urllib3.util.connection, IPython.core.pydoc, simplejson._speedups, pandas.core.textwrap, pytz.bisect, copy_reg, pip.vcs.bazaar, pip._vendor.requests.utils, IPython.utils.linecache, ipywidgets.widgets.widget_selectioncontainer, pip._vendor.requests.packages.urllib3.io, ipython_genutils.string, IPython.utils.platform, zmq.sugar.zmq, pip._vendor.requests.packages.urllib3.filepost, ipykernel.zmqshell, encodings.hex_codec, sqlite3, curses.os, IPython.core.magics.math, IPython.core.magics.pprint, pandas.tools.numpy, pip._vendor.cachecontrol.email, distutils.archive_util, email.re, sys, IPython.terminal.IPython, xml.sax.sys, pandas.util.platform, dateutil.string, pandas.computation.sys, pip._vendor.requests.datetime, yahoo_finance, pandas.info, IPython.core.application, ipykernel._version, pip._vendor.distlib._backport.__future__, IPython.core.magics.io, pip._vendor.distlib.bisect, distutils, pandas.computation.scope, pip._vendor.distlib.tarfile, IPython.core.oinspect, questions, ipykernel.comm.zmq, email.mime, zmq.backend.cython.constants, pip.utils.appdirs, pip.operations, xml.sax.urllib, pandas.core.weakref, jupyter_client.cPickle, distutils.command.site, logging.socket, sqlite3.collections, pandas.computation.itertools, IPython.utils.warn, zipimport, pip._vendor.requests.cookies, dateutil.time, pip._vendor.distlib._backport.struct, traitlets.config.re, pandas.core.numpy, IPython.lib.random, ipykernel.codeutil, signal, quopri, distutils.version, pip._vendor.progress.sys, pip.basecommand, xml.parsers.expat, HTMLParser, zmq.backend.cython.copy, IPython.utils.module_paths, IPython.utils.timing, distutils.command.install, traitlets.utils.getargspec, warnings, pandas.util.unittest, pandas.computation.ops, pandas.core.warnings, pip._vendor.requests.packages.urllib3.response, pip._vendor.requests.packages.urllib3.util.response, ipython_genutils, zmq.sugar.cPickle, cgi, IPython.utils.subprocess, jupyter_client.abc, IPython.utils.syspathcontext, UserDict, tornado.escape, pip._vendor.distlib.ast, dateutil.calendar, unittest.loader, zmq.sugar.version, pexpect.signal, IPython.core.socket, IPython.core.magics.osm, distutils.pwd, ipykernel.copy, __future__, traitlets.utils.functools, IPython.core.__main__, numpy.ma.core, pandas.core.internals, distutils.string, pip._vendor.html5lib.trie._base, pandas.tseries.index, errno, pandas.compat.dateutil, xml.sax.handler, simplejson.encoder, pandas.stats.pandas, pip.exceptions, encodings.__builtin__, jupyter_client.hmac, ipywidgets.widgets.re, IPython.core.profiledir, email.os, pwd, _sysconfigdata, _struct, pandas.computation.warnings, uu, pip._vendor.distlib._backport.bz2, pandas.compat._abcoll, ipywidgets.widgets.inspect, pip._vendor.colorama.ansi, multiprocessing.signal, xml.sax, pandas.compat.itertools, logging.codecs, numpy.compat.py3k, parser, numpy.polynomial._polybase, pip._vendor.distlib.subprocess, numpy.core._dotblas, IPython.utils.importstring, pandas.io.numbers, email.warnings, pip._vendor.requests.packages.urllib3.fields, pexpect.tty, IPython.core.codeop, pandas, jupyter_client.kernelspec, jupyter_core, IPython.core.prompts, pip.compat, tornado.speedups, pandas.io.contextlib, pip.cmdoptions, distutils.file_util, numpy.lib.format, pip._vendor.cachecontrol.caches.file_cache, dateutil.itertools, sitecustomize, pandas.locale, traitlets.utils.importstring, IPython.core.magics.deprecated, tornado.ioloop, distutils.debug, ipython_genutils.py3compat, ctypes.os, pexpect.select, gc, pip._vendor.requests.packages.urllib3.util.retry, zmq.utils.warnings, traitlets.traitlets, base64, pandas.io.sql, email.Header, numpy.lib.arraysetops, pip._vendor.requests.urlparse, pandas.io.stata, pip._vendor.colorama.ansitowin32, traitlets.config.logging, _markerlib, email.codecs, IPython.core.debugger, pip._vendor.requests.packages.urllib3.util.timeout, jupyter_client.jsonutil, certifi.core, IPython.utils.resource, logging.threading, Crypto.Util.sys, logging.io, IPython.core.displaypub, pandas.core.reshape, bdb, numpy.lib._compiled_base, pip.vcs.mercurial, pip._vendor.six, ipykernel.serialize, unittest.suite, ipython_genutils.re, pip._vendor.cachecontrol.calendar, matplotlib, json.scanner, ipython_genutils.locale, pip._vendor.requests.packages.urllib3.ssl, pkg_resources, pandas.sparse.numpy, pandas.core.panel4d, pexpect.termios, jupyter_client.os, _sre, ipykernel.inprocess.IPython, ipykernel.inprocess.abc, traitlets.types, unittest.runner, pip._vendor.cachecontrol.caches.hashlib, IPython.core.display_trap, pandas.json, pandas.compat.copy, binascii, pandas.core.index, IPython.core.logger, ipykernel.inprocess.Queue, numpy.polynomial.chebyshev, pip._vendor.progress.__future__, zmq.utils.struct, IPython.core.magics.itertools, numpy.testing.utils, zmq.devices.time, zmq.utils.garbage, pip._vendor.requests.cgi, IPython.core.page, this, pandas.pandas, markupbase, pexpect.resource, sre_parse, Crypto.Util.py3compat, IPython.core.magics.signal, traitlets.inspect, ipywidgets.widgets.widget_selection, six, pandas.core.copy, ctypes.util, pip.commands.completion, ipywidgets.widgets.widget_link, pip.utils.deprecation, multiprocessing.sys, pip._vendor.colorama.initialise, distutils.core, os, pandas.io.re, pexpect.struct, pandas.computation.inspect, email.string, sysconfig, IPython.terminal.traitlets, numpy.core.numerictypes, distutils.dep_util, tempfile, pandas.tools.math, distutils.command.sys, ipykernel.comm.threading, pkg_resources._vendor, pip.download, multiprocessing.itertools, pip._vendor.distlib.markers, xml.etree._elementtree, distutils.grp, ipython_genutils._version, ipykernel.comm.IPython, numpy.lib._datasource, IPython.core.warnings, logging.handlers, jupyter_client.warnings, pip._vendor.requests.threading, IPython.core.pylabtools, IPython.utils.warnings, IPython.core.magics.gc, pip.models.index, cStringIO, numpy.polynomial, pandas.tools.warnings, dateutil.zoneinfo, jupyter_client.re, traitlets.config.copy, pip._vendor.requests.urllib, encodings, pandas.stats.fama_macbeth, ipykernel.comm.uuid, zmq.sugar.poll, IPython.core.operator, IPython.core.crashhandler, numpy.lib.numpy, pandas.stats.itertools, pip._vendor.traceback, pip._vendor.requests.packages.urllib3.packages.six, sqlite3.time, math, numpy.lib.ufunclike, dateutil.zoneinfo.subprocess, pip._vendor.requests.packages.urllib3.request, IPython.core.builtin_trap, pip._vendor.distlib.shutil, pandas.computation.tokenize, ipykernel.jupyter_core, jupyter_client.multikernelmanager, pip._vendor.colorama.winterm, pandas.util.functools, numpy.lib.twodim_base, pip._vendor.cachecontrol, distutils.util, pandas.stats.collections, tornado.platform.interface, _LWPCookieJar, jupyter_client.channels, distutils.command.distutils, pandas.io.urllib, traitlets.logging, numpy.lib.stride_tricks, ipywidgets.widgets.widget_string, xml.sax.os, ipykernel.jupyter_client, email.feedparser, ipykernel.datetime, pandas.io.copy, pip._vendor.requests.packages.urllib3.contrib, zmq.error, _csv, email.quopriMIME, pip.req, ipykernel.IPython, ipykernel, _hashlib, zmq.eventloop.cPickle, IPython.core.sqlite3, _markerlib.sys, pytz.struct, pip._vendor.progress.time, pexpect.pty, dateutil.parser, encodings.codecs, IPython.utils.__builtin__, IPython.core.magics, pip._vendor.colorama.atexit, pandas.computation.engines, _ssl, IPython.utils.sys, ipython_genutils.text, IPython.core.shellapp, pip._vendor.distlib.sys, pip._vendor.requests.packages.urllib3.util.warnings, pip._vendor.requests.packages.chardet, unittest.os, _io, _strptime, IPython.core.compilerop, simplejson.cStringIO, pandas.io.logging, pandas.io.numpy, pip._vendor.html5lib.constants, email.iterators, ipywidgets.widgets.traitlets, dateutil.tz, pandas.util.random, unittest.types, zmq.sugar.warnings, IPython.extensions.storemagic, pyparsing, ipykernel.copy_reg, numpy.random.mtrand, _markerlib.platform, importlib, ipykernel.logging, ipython_genutils.importstring, logging.thread, pip._vendor.distlib._backport.grp, pip._vendor.requests.packages.urllib3.packages.operator, pip._vendor.packaging.specifiers, distutils.cmd, traitlets.config.__future__, distutils.re, IPython.os, cookielib, pandas.io.os, bisect, pip._vendor.requests.packages.urllib3.httplib, pandas.os, traitlets.ipython_genutils, zmq.ctypes, pip._vendor.html5lib.trie, pandas.util.__future__, IPython.core.textwrap, pip._vendor.sys, pip._vendor.requests.packages.urllib3.packages.ordered_dict, pip._vendor.progress.bar, pandas.stats, ipython_genutils.encoding, pandas.core.generic, zmq.backend.cython.message, pip.commands.show, numpy.testing.decorators, tornado.log, email.MIMEText, pip._vendor.requests.certifi, email, ipywidgets.widgets.collections, zmq.devices.proxydevice, zmq.utils, IPython.core.magics.re, certifi.os, IPython.lib.distutils, ipython_genutils.functools, pandas.tseries.warnings, pandas.core.indexing, itertools, pip._vendor.requests.packages.urllib3.util, pip._vendor.requests.exceptions, IPython.extensions.os, pip.commands.search, zmq.errno, _cython_0_22, xml.parsers, curses._curses, pandas.util.numpy, IPython.core.tokenize, email.base64MIME, IPython.utils.sentinel, pandas.tseries.operator, IPython.core.magics.warnings, json, grp, pandas.computation.pytables, pip._vendor.cachecontrol.caches.textwrap, ipywidgets.widgets, pandas.core, pandas.computation.operator, termios, numpy.ma, IPython.IPython, pandas.sys, email.email, distutils._osx_support, xml.etree.re, numpy.lib, jupyter_client.blocking.client, ipython_genutils.__builtin__, multiprocessing.weakref, pandas.computation.align, pip._vendor.distlib._backport.collections, distutils.distutils, ipywidgets.widgets.threading, ipykernel.kernelapp, pandas.tseries.tdi, site, ipykernel.inprocess.traitlets, pip._vendor.distlib._backport.shutil, jupyter_client.io, ipywidgets.widgets.contextlib, zmq.backend.sys, traitlets.warnings, pandas.sparse.pandas, IPython.testing.skipdoctest, email.binascii, pandas.io.pandas, IPython.utils.data, pip.index, numpy.polynomial.polyutils, numpy.compat._inspect, email.cStringIO, pandas.stats.plm, pandas.core.itertools, pandas.core.__future__, difflib, distutils.errors, pip._vendor.cachecontrol.controller, IPython.lib.threading, IPython.core.decorator, unittest.warnings, logging.logging, xml.sax.urlparse, pytz.threading, zmq.backend.cython.socket, pip._vendor._markerlib.pip, zmq.sugar.attrsettr, pip._vendor.cachecontrol.cPickle, jupyter_client.shutil, jupyter_client.logging, pip.models, numpy.testing, logging.config, pip._vendor.cachecontrol.urllib, pytz.os, IPython.core.zipimport, pip._vendor.requests.packages.chardet.sys, pandas.core.datetime, numpy.linalg._umath_linalg, distutils.log, numpy.random.operator, pip._vendor.six.moves.urllib, numpy.core.multiarray, ipykernel.sys, IPython.lib.display, matplotlib.compat.subprocess, IPython.utils.token, pip._vendor.cachecontrol.caches, numpy.matrixlib, pandas.lib, _multiprocessing, IPython.core.magics.traitlets, pip._vendor.distlib.logging, ipython_genutils.warnings, IPython.core.itertools, zmq.sugar.random, IPython.core.magics.extension, ipywidgets.widgets.widget_int, pip.utils.build, pip._vendor.html5lib.utils, logging.sys, pexpect.re, pandas.tools.tile, _functools, socket, ipykernel.socket, pip._vendor.cachecontrol.base64, ipywidgets.widgets.widget_bool, tornado.platform, pandas.util.tempfile, pip._vendor.progress.helpers, pandas.sparse.__future__, __builtin__, xml.sax.xmlreader, json.struct, pip._vendor.cachecontrol.json, multiprocessing.threading, pandas.io.collections, pip._vendor.cachecontrol.caches.pip, pytz.sys, distutils.stat, IPython.core.magics.sys, dateutil.sys, jupyter_client.adapter, pip._vendor.requests.copy, simplejson, jupyter_client.ipython_genutils, pandas.io.urllib2, ipykernel.ipkernel, IPython.core.functools, IPython.lib.signal, pandas.stats.api, jupyter_client.subprocess, logging.time, distutils.extension, numpy.lib.function_base, dateutil.zoneinfo.os, logging.warnings, IPython.tempfile, numpy.polynomial.hermite, contextlib, pip, IPython.lib.pretty, IPython.utils.string, getopt, zmq.sugar.time, ipython_genutils.types, stat, matplotlib.ticker, pip._vendor.requests.auth, pandas.computation.expressions, pip._vendor.html5lib.serializer.htmlserializer, email.Encoders, zmq.devices.multiprocessing, pip._vendor.requests.struct, zmq.utils.interop, pytz.gettext, xmlrpclib, pip._vendor.__future__, pandas.sparse.series'"
      ]
     },
     "execution_count": 364,
     "metadata": {},
     "output_type": "execute_result"
    }
   ],
   "source": [
    "\", \".join(sys.modules.keys())"
   ]
  },
  {
   "cell_type": "code",
   "execution_count": 365,
   "metadata": {
    "collapsed": false
   },
   "outputs": [
    {
     "data": {
      "text/plain": [
       "'/usr/local/Cellar/python/2.7.10_2/Frameworks/Python.framework/Versions/2.7/lib/python2.7/string.pyc'"
      ]
     },
     "execution_count": 365,
     "metadata": {},
     "output_type": "execute_result"
    }
   ],
   "source": [
    "import inspect\n",
    "inspect.getfile(string)"
   ]
  },
  {
   "cell_type": "markdown",
   "metadata": {},
   "source": [
    "<font color=#505050 size=3 face='arial black'>\n",
    "Importing functions inside python.\n",
    "</font>"
   ]
  },
  {
   "cell_type": "code",
   "execution_count": 366,
   "metadata": {
    "collapsed": false
   },
   "outputs": [
    {
     "name": "stdout",
     "output_type": "stream",
     "text": [
      "Requirement already satisfied (use --upgrade to upgrade): yahoo-finance in /usr/local/lib/python2.7/site-packages\n",
      "Requirement already satisfied (use --upgrade to upgrade): simplejson in /usr/local/lib/python2.7/site-packages (from yahoo-finance)\n",
      "Requirement already satisfied (use --upgrade to upgrade): pytz in /usr/local/lib/python2.7/site-packages (from yahoo-finance)\n"
     ]
    },
    {
     "name": "stderr",
     "output_type": "stream",
     "text": [
      "You are using pip version 7.1.1, however version 7.1.2 is available.\n",
      "You should consider upgrading via the 'pip install --upgrade pip' command.\n"
     ]
    },
    {
     "data": {
      "text/plain": [
       "0"
      ]
     },
     "execution_count": 366,
     "metadata": {},
     "output_type": "execute_result"
    }
   ],
   "source": [
    "import pip\n",
    "pip.main(['install', 'yahoo-finance'])\n",
    "\n",
    "# pip install yahoo-finance"
   ]
  },
  {
   "cell_type": "code",
   "execution_count": 367,
   "metadata": {
    "collapsed": false
   },
   "outputs": [
    {
     "name": "stdout",
     "output_type": "stream",
     "text": [
      "[{'Adj_Close': '622.359985',\n",
      "  'Close': '622.359985',\n",
      "  'Date': '2015-09-23',\n",
      "  'High': '628.929993',\n",
      "  'Low': '620.00',\n",
      "  'Open': '622.049988',\n",
      "  'Symbol': 'GOOG',\n",
      "  'Volume': '1469400'},\n",
      " {'Adj_Close': '622.690002',\n",
      "  'Close': '622.690002',\n",
      "  'Date': '2015-09-22',\n",
      "  'High': '627.549988',\n",
      "  'Low': '615.429993',\n",
      "  'Open': '627.00',\n",
      "  'Symbol': 'GOOG',\n",
      "  'Volume': '2554300'},\n",
      " {'Adj_Close': '635.440002',\n",
      "  'Close': '635.440002',\n",
      "  'Date': '2015-09-21',\n",
      "  'High': '636.48999',\n",
      "  'Low': '625.940002',\n",
      "  'Open': '634.400024',\n",
      "  'Symbol': 'GOOG',\n",
      "  'Volume': '1785600'},\n",
      " {'Adj_Close': '629.25',\n",
      "  'Close': '629.25',\n",
      "  'Date': '2015-09-18',\n",
      "  'High': '640.00',\n",
      "  'Low': '627.02002',\n",
      "  'Open': '636.789978',\n",
      "  'Symbol': 'GOOG',\n",
      "  'Volume': '5087600'},\n",
      " {'Adj_Close': '642.900024',\n",
      "  'Close': '642.900024',\n",
      "  'Date': '2015-09-17',\n",
      "  'High': '650.900024',\n",
      "  'Low': '635.02002',\n",
      "  'Open': '637.789978',\n",
      "  'Symbol': 'GOOG',\n",
      "  'Volume': '2259100'}]\n"
     ]
    }
   ],
   "source": [
    "from pprint import pprint\n",
    "\n",
    "from yahoo_finance import Share\n",
    "yahoo = Share('GOOG')\n",
    "data = yahoo.get_historical('2015-07-01', '2015-09-23')\n",
    "pprint(data[:5])"
   ]
  },
  {
   "cell_type": "markdown",
   "metadata": {},
   "source": [
    "<br>\n",
    "<font color=#505050 size=5 face='Consolas'>What structure is produced by the <font color=#ff6347>yahoo.get_historical</font> function? \n",
    "</font>\n",
    "<br>"
   ]
  },
  {
   "cell_type": "markdown",
   "metadata": {},
   "source": [
    "<br>\n",
    "<font color=#505050 size=5 face='Consolas'>What's an alternative way of storing the same information? \n",
    "</font>\n",
    "<br>"
   ]
  },
  {
   "cell_type": "markdown",
   "metadata": {},
   "source": [
    "<br>\n",
    "<font color=#505050 size=4 face='Consolas'> <font size=5>Write a function does the conversion.</font>\n",
    "<br>\n",
    "<ol>\n",
    "\n",
    "<li>Write a simple function to get the unique key names</li><br>\n",
    "\n",
    "<li>Write a simple function that uses the unique keys to do the final conversion</li><br>\n",
    "\n",
    "</ol>\n",
    "\n",
    "</font>\n",
    "<br>"
   ]
  },
  {
   "cell_type": "code",
   "execution_count": 368,
   "metadata": {
    "collapsed": false
   },
   "outputs": [
    {
     "name": "stdout",
     "output_type": "stream",
     "text": [
      "def get_unique_keys_v1(financial_data):\n",
      "\n",
      "    keys = set([])\n",
      "\n",
      "    for row_dict in financial_data:\n",
      "        for key in row_dict.keys():\n",
      "            keys.add(key)\n",
      "            \n",
      "    return list(keys)\n",
      "\n",
      "print get_unique_keys_v1(data)               \n",
      "\n",
      "['High', 'Symbol', 'Adj_Close', 'Volume', 'Low', 'Date', 'Close', 'Open']\n"
     ]
    }
   ],
   "source": [
    "#simple answer\n",
    "answer = unhide(\"AMqJXK6q2sX5HxejU5ONCoPu3xDxPDi2Kf+T7bjW9bTInC66QoV/ojOzwQAM4F/r8M+/t+6RqIAhHEdRihvwyYyyp3W/YpQvWAiTEIWaJyMw2UQjZnsbnnNUFr41pguc1MP+h4LK10MUQC4eFSQQ2oDxRzRretNYzIJud7VDetLK0zKoq4cAFoMejYu3L30+AguSFx1caPHCFyO/l+9CqLAzRAykhdIohXXzN/w5SAFDNODI1WjoxXH7AYocOkgIUD1hIGqHZ9eLrm+/FuikwzUeHcLF/dWuu0QH8SPs99LXqBAPJCI7JNDJx6WdTdh+\")\n",
    "print answer\n",
    "print\n",
    "exec(answer)"
   ]
  },
  {
   "cell_type": "code",
   "execution_count": 369,
   "metadata": {
    "collapsed": false,
    "scrolled": true
   },
   "outputs": [
    {
     "name": "stdout",
     "output_type": "stream",
     "text": [
      "from itertools import chain\n",
      "\n",
      "def get_unique_keys_v2(financial_data):\n",
      "    return list(set(chain(*map(lambda x: x.keys(),financial_data))))\n",
      "\n",
      "print get_unique_keys_v2(data)\n",
      "print\n",
      "\n",
      "#look at steps in the function broken down\n",
      "list_of_keys = map(lambda x: x.keys(),data)\n",
      "chained = chain(*list_of_keys)\n",
      "chained_list = list(chained)\n",
      "unique_keys=list(set(chained_list))\n",
      "\n",
      "print unique_keys      \n",
      "\n",
      "['High', 'Symbol', 'Adj_Close', 'Volume', 'Low', 'Date', 'Close', 'Open']\n",
      "\n",
      "['High', 'Symbol', 'Adj_Close', 'Volume', 'Low', 'Date', 'Close', 'Open']\n"
     ]
    }
   ],
   "source": [
    "#more sophisticated answer\n",
    "answer=unhide(\"kif32xe8smTRwUi3dLwqHXZ4lq+ZuLzgwFsyD275qjH4I2qiM/AEBh6CniNyKTyuVgtedsx7trlq4DNFD5faqCANxWFiYDOO+hWR1o2MaDbv9YbYglPFu72G5naSe5yFjAcgymkV3L7YfjDyoGJA61d27tlGK8SA4tXzj0e6wg6FKEsTDBjUo3JnVNbfrW9F+CNqojPwBAYegp4jcik8rgT22Hk4p3kbedX8isVKfwxvDK5MIVV57oC32DToGkeAEF8SsuD2hrLNYR+PLE/UcTcz5OgIIO59hvmWxYiIcBx4SEYa87n2FdsDkf2ZTg4oOYsK2l9lDaSHQE2dTDmpI09RoVclYS7eFcJW3awf6c4ci/e301vuRY+KSFImODKZ4ezQ5Rc1tCJWKoLcSs1n6xovg4EwaXtfQNesPBKpAGZTlaNFiPv47NHqE/bX3fDUaiBXUCQtqJQ18tgL+ESSY6ZDS4XcKes8HwPVFItmklYZPUx3rGZmThiuNIJg3M5F\")\n",
    "print answer\n",
    "print\n",
    "exec(answer)"
   ]
  },
  {
   "cell_type": "markdown",
   "metadata": {},
   "source": [
    "<br>\n",
    "<center><font color=#505050 size=4 face='Consolas'>Write a simple function that uses the unique keys to create a dictionary of lists\n",
    "</font></center>\n",
    "<br>"
   ]
  },
  {
   "cell_type": "code",
   "execution_count": 371,
   "metadata": {
    "collapsed": false
   },
   "outputs": [
    {
     "name": "stdout",
     "output_type": "stream",
     "text": [
      "def transpose(financial_data):\n",
      "\n",
      "    unique_keys = get_unique_keys_v2(financial_data)\n",
      "    \n",
      "    dict_of_lists={}\n",
      "    \n",
      "    for key in unique_keys:\n",
      "        dict_of_lists[key] = []\n",
      "    \n",
      "    for row_dict in data:\n",
      "        for key in unique_keys:\n",
      "            dict_of_lists[key].append(row_dict[key])\n",
      "            \n",
      "    return dict_of_lists\n",
      "            \n",
      "print transpose(data)    \n",
      "\n",
      "{'Volume': ['1469400', '2554300', '1785600', '5087600', '2259100', '1276100', '2082100', '1698400', '1360900', '1900500', '1693900', '2270800', '2089000', '1750800', '2573500', '3680200', '2161200', '1973500', '3481600', '4177200', '3510800', '5721500', '4227300', '2624600', '2131600', '1452600', '1047600', '1069900', '1804800', '2936700', '5000900', '1526400', '1401600', '1560300', '2331200', '1481800', '1300300', '1702400', '1465300', '1565000', '1704300', '2668700', '3608400', '3001800', '3689600', '3348400', '5848800', '11134500', '4053900', '1776600', '3225100', '2199800', '1859900', '1839400', '1264600', '1595700', '1276500', '1234000', '1961000'], 'Symbol': ['GOOG', 'GOOG', 'GOOG', 'GOOG', 'GOOG', 'GOOG', 'GOOG', 'GOOG', 'GOOG', 'GOOG', 'GOOG', 'GOOG', 'GOOG', 'GOOG', 'GOOG', 'GOOG', 'GOOG', 'GOOG', 'GOOG', 'GOOG', 'GOOG', 'GOOG', 'GOOG', 'GOOG', 'GOOG', 'GOOG', 'GOOG', 'GOOG', 'GOOG', 'GOOG', 'GOOG', 'GOOG', 'GOOG', 'GOOG', 'GOOG', 'GOOG', 'GOOG', 'GOOG', 'GOOG', 'GOOG', 'GOOG', 'GOOG', 'GOOG', 'GOOG', 'GOOG', 'GOOG', 'GOOG', 'GOOG', 'GOOG', 'GOOG', 'GOOG', 'GOOG', 'GOOG', 'GOOG', 'GOOG', 'GOOG', 'GOOG', 'GOOG', 'GOOG'], 'Adj_Close': ['622.359985', '622.690002', '635.440002', '629.25', '642.900024', '635.97998', '635.140015', '623.23999', '625.77002', '621.349976', '612.719971', '614.659973', '600.700012', '606.25', '614.340027', '597.789978', '618.25', '630.380005', '637.609985', '628.619995', '582.059998', '589.609985', '612.47998', '646.830017', '660.900024', '656.130005', '660.869995', '657.119995', '656.450012', '659.559998', '660.780029', '633.72998', '635.299988', '642.679993', '643.780029', '629.25', '631.210022', '625.609985', '632.590027', '631.929993', '628.00', '627.26001', '623.559998', '644.280029', '662.099976', '662.299988', '663.02002', '672.929993', '579.849976', '560.219971', '561.099976', '546.549988', '530.130005', '520.679993', '516.830017', '525.02002', '522.859985', '523.400024', '521.840027'], 'High': ['628.929993', '627.549988', '636.48999', '640.00', '650.900024', '637.950012', '638.700012', '625.859985', '625.780029', '624.159973', '626.52002', '616.309998', '603.469971', '619.710022', '614.340027', '612.859985', '635.799988', '636.880005', '643.590027', '631.710022', '617.450012', '599.330017', '640.049988', '662.98999', '667.00', '664.00', '661.380005', '659.85498', '664.50', '665.00', '674.900024', '643.440002', '642.679993', '645.379028', '647.859985', '634.809998', '633.05603', '632.909973', '635.219971', '633.359985', '632.830017', '634.299988', '648.169983', '663.630005', '678.640015', '673.00', '668.880005', '674.468018', '580.679993', '566.502991', '565.848999', '547.109985', '532.559998', '523.77002', '522.734009', '526.179993', '525.25', '524.650024', '525.690002'], 'Low': ['620.00', '615.429993', '625.940002', '627.02002', '635.02002', '632.320007', '623.780029', '619.429993', '617.419983', '611.429993', '609.599976', '604.119995', '595.25', '602.820984', '599.710022', '594.099976', '617.679993', '624.559998', '622.00', '599.049988', '581.109985', '565.049988', '612.330017', '642.900024', '654.190002', '653.460022', '651.23999', '652.659973', '651.661011', '652.289978', '654.27002', '631.249023', '629.710022', '632.25', '633.159973', '627.159973', '625.340027', '625.50', '622.049988', '622.650024', '623.309998', '620.50', '622.52002', '641.00', '659.00', '654.299988', '653.01001', '645.00', '565.00', '556.789978', '546.710022', '532.400024', '525.549988', '520.349976', '516.109985', '515.179993', '519.00', '521.080017', '518.22998'], 'Date': ['2015-09-23', '2015-09-22', '2015-09-21', '2015-09-18', '2015-09-17', '2015-09-16', '2015-09-15', '2015-09-14', '2015-09-11', '2015-09-10', '2015-09-09', '2015-09-08', '2015-09-04', '2015-09-03', '2015-09-02', '2015-09-01', '2015-08-31', '2015-08-28', '2015-08-27', '2015-08-26', '2015-08-25', '2015-08-24', '2015-08-21', '2015-08-20', '2015-08-19', '2015-08-18', '2015-08-17', '2015-08-14', '2015-08-13', '2015-08-12', '2015-08-11', '2015-08-10', '2015-08-07', '2015-08-06', '2015-08-05', '2015-08-04', '2015-08-03', '2015-07-31', '2015-07-30', '2015-07-29', '2015-07-28', '2015-07-27', '2015-07-24', '2015-07-23', '2015-07-22', '2015-07-21', '2015-07-20', '2015-07-17', '2015-07-16', '2015-07-15', '2015-07-14', '2015-07-13', '2015-07-10', '2015-07-09', '2015-07-08', '2015-07-07', '2015-07-06', '2015-07-02', '2015-07-01'], 'Close': ['622.359985', '622.690002', '635.440002', '629.25', '642.900024', '635.97998', '635.140015', '623.23999', '625.77002', '621.349976', '612.719971', '614.659973', '600.700012', '606.25', '614.340027', '597.789978', '618.25', '630.380005', '637.609985', '628.619995', '582.059998', '589.609985', '612.47998', '646.830017', '660.900024', '656.130005', '660.869995', '657.119995', '656.450012', '659.559998', '660.780029', '633.72998', '635.299988', '642.679993', '643.780029', '629.25', '631.210022', '625.609985', '632.590027', '631.929993', '628.00', '627.26001', '623.559998', '644.280029', '662.099976', '662.299988', '663.02002', '672.929993', '579.849976', '560.219971', '561.099976', '546.549988', '530.130005', '520.679993', '516.830017', '525.02002', '522.859985', '523.400024', '521.840027'], 'Open': ['622.049988', '627.00', '634.400024', '636.789978', '637.789978', '635.469971', '626.700012', '625.700012', '619.75', '613.099976', '621.219971', '612.48999', '600.00', '617.00', '605.590027', '602.359985', '627.539978', '632.820007', '639.400024', '610.349976', '614.909973', '573.00', '639.780029', '655.460022', '656.599976', '661.900024', '656.799988', '655.01001', '659.322021', '663.080017', '669.200012', '639.47998', '640.22998', '645.00', '634.330017', '628.419983', '625.340027', '631.380005', '630.00', '628.799988', '632.830017', '621.00', '647.00', '661.27002', '660.890015', '655.210022', '659.23999', '649.00', '565.119995', '560.130005', '546.76001', '532.880005', '526.289978', '523.119995', '521.049988', '523.130005', '519.50', '521.080017', '524.72998']}\n"
     ]
    }
   ],
   "source": [
    "answer= unhide('60Xq0V+pth3ymUS+iZWs7UeBTYV+prUB5IDVpzuwmtW6rwkmZmy3S03sLpg0wvR14CyyjZezRoBsDaEtUGthPiiCF0+ksLi4q2C5YURLf7jH5YKfra/TNsQZlZFM8jRBJP47HbjN2rMFg2njUpIPQ/QLfWJrlmq3FMsLmifu+GW/UDaVx7DTE2Ok895fi+v3Tq9fsu12lj+FugnAruiHu8uW8jwm4thZSmC4w/DWEKq8NGWeeP5JcT2uAIrCMQcHRl1fW8BHpx98JyLD7Fw2pkLJICkPYOXfl65edmpyNpaAnRtsQmfpMjsq866MQeEcP5Ncpb1JmOzTwFotZb+c+gMlr5LLs1EwKRB1e6VqKrdFPhsKSUuBe3BArwteFdX7yUl0Y1g04rEWPTnma+9QX+DbkCaW4+wYSeBRsonvDlLCqyY/PZxo4o9EN/VcVVurzaLN9UeiS6xbUHzCMZtB8FQZz7egE7Br4aUHHhCTyYw=')\n",
    "print answer\n",
    "print\n",
    "exec(answer)"
   ]
  },
  {
   "cell_type": "code",
   "execution_count": 372,
   "metadata": {
    "collapsed": false
   },
   "outputs": [
    {
     "name": "stdout",
     "output_type": "stream",
     "text": [
      "import pandas as pd\n",
      "\n",
      "def transpose(financial_data):\n",
      "    df = pd.DataFrame(financial_data)\n",
      "    return df.to_dict(orient='list')\n",
      "\n",
      "print transpose(data)           \n",
      "\n",
      "{'Volume': ['1469400', '2554300', '1785600', '5087600', '2259100', '1276100', '2082100', '1698400', '1360900', '1900500', '1693900', '2270800', '2089000', '1750800', '2573500', '3680200', '2161200', '1973500', '3481600', '4177200', '3510800', '5721500', '4227300', '2624600', '2131600', '1452600', '1047600', '1069900', '1804800', '2936700', '5000900', '1526400', '1401600', '1560300', '2331200', '1481800', '1300300', '1702400', '1465300', '1565000', '1704300', '2668700', '3608400', '3001800', '3689600', '3348400', '5848800', '11134500', '4053900', '1776600', '3225100', '2199800', '1859900', '1839400', '1264600', '1595700', '1276500', '1234000', '1961000'], 'Symbol': ['GOOG', 'GOOG', 'GOOG', 'GOOG', 'GOOG', 'GOOG', 'GOOG', 'GOOG', 'GOOG', 'GOOG', 'GOOG', 'GOOG', 'GOOG', 'GOOG', 'GOOG', 'GOOG', 'GOOG', 'GOOG', 'GOOG', 'GOOG', 'GOOG', 'GOOG', 'GOOG', 'GOOG', 'GOOG', 'GOOG', 'GOOG', 'GOOG', 'GOOG', 'GOOG', 'GOOG', 'GOOG', 'GOOG', 'GOOG', 'GOOG', 'GOOG', 'GOOG', 'GOOG', 'GOOG', 'GOOG', 'GOOG', 'GOOG', 'GOOG', 'GOOG', 'GOOG', 'GOOG', 'GOOG', 'GOOG', 'GOOG', 'GOOG', 'GOOG', 'GOOG', 'GOOG', 'GOOG', 'GOOG', 'GOOG', 'GOOG', 'GOOG', 'GOOG'], 'Adj_Close': ['622.359985', '622.690002', '635.440002', '629.25', '642.900024', '635.97998', '635.140015', '623.23999', '625.77002', '621.349976', '612.719971', '614.659973', '600.700012', '606.25', '614.340027', '597.789978', '618.25', '630.380005', '637.609985', '628.619995', '582.059998', '589.609985', '612.47998', '646.830017', '660.900024', '656.130005', '660.869995', '657.119995', '656.450012', '659.559998', '660.780029', '633.72998', '635.299988', '642.679993', '643.780029', '629.25', '631.210022', '625.609985', '632.590027', '631.929993', '628.00', '627.26001', '623.559998', '644.280029', '662.099976', '662.299988', '663.02002', '672.929993', '579.849976', '560.219971', '561.099976', '546.549988', '530.130005', '520.679993', '516.830017', '525.02002', '522.859985', '523.400024', '521.840027'], 'High': ['628.929993', '627.549988', '636.48999', '640.00', '650.900024', '637.950012', '638.700012', '625.859985', '625.780029', '624.159973', '626.52002', '616.309998', '603.469971', '619.710022', '614.340027', '612.859985', '635.799988', '636.880005', '643.590027', '631.710022', '617.450012', '599.330017', '640.049988', '662.98999', '667.00', '664.00', '661.380005', '659.85498', '664.50', '665.00', '674.900024', '643.440002', '642.679993', '645.379028', '647.859985', '634.809998', '633.05603', '632.909973', '635.219971', '633.359985', '632.830017', '634.299988', '648.169983', '663.630005', '678.640015', '673.00', '668.880005', '674.468018', '580.679993', '566.502991', '565.848999', '547.109985', '532.559998', '523.77002', '522.734009', '526.179993', '525.25', '524.650024', '525.690002'], 'Low': ['620.00', '615.429993', '625.940002', '627.02002', '635.02002', '632.320007', '623.780029', '619.429993', '617.419983', '611.429993', '609.599976', '604.119995', '595.25', '602.820984', '599.710022', '594.099976', '617.679993', '624.559998', '622.00', '599.049988', '581.109985', '565.049988', '612.330017', '642.900024', '654.190002', '653.460022', '651.23999', '652.659973', '651.661011', '652.289978', '654.27002', '631.249023', '629.710022', '632.25', '633.159973', '627.159973', '625.340027', '625.50', '622.049988', '622.650024', '623.309998', '620.50', '622.52002', '641.00', '659.00', '654.299988', '653.01001', '645.00', '565.00', '556.789978', '546.710022', '532.400024', '525.549988', '520.349976', '516.109985', '515.179993', '519.00', '521.080017', '518.22998'], 'Date': ['2015-09-23', '2015-09-22', '2015-09-21', '2015-09-18', '2015-09-17', '2015-09-16', '2015-09-15', '2015-09-14', '2015-09-11', '2015-09-10', '2015-09-09', '2015-09-08', '2015-09-04', '2015-09-03', '2015-09-02', '2015-09-01', '2015-08-31', '2015-08-28', '2015-08-27', '2015-08-26', '2015-08-25', '2015-08-24', '2015-08-21', '2015-08-20', '2015-08-19', '2015-08-18', '2015-08-17', '2015-08-14', '2015-08-13', '2015-08-12', '2015-08-11', '2015-08-10', '2015-08-07', '2015-08-06', '2015-08-05', '2015-08-04', '2015-08-03', '2015-07-31', '2015-07-30', '2015-07-29', '2015-07-28', '2015-07-27', '2015-07-24', '2015-07-23', '2015-07-22', '2015-07-21', '2015-07-20', '2015-07-17', '2015-07-16', '2015-07-15', '2015-07-14', '2015-07-13', '2015-07-10', '2015-07-09', '2015-07-08', '2015-07-07', '2015-07-06', '2015-07-02', '2015-07-01'], 'Close': ['622.359985', '622.690002', '635.440002', '629.25', '642.900024', '635.97998', '635.140015', '623.23999', '625.77002', '621.349976', '612.719971', '614.659973', '600.700012', '606.25', '614.340027', '597.789978', '618.25', '630.380005', '637.609985', '628.619995', '582.059998', '589.609985', '612.47998', '646.830017', '660.900024', '656.130005', '660.869995', '657.119995', '656.450012', '659.559998', '660.780029', '633.72998', '635.299988', '642.679993', '643.780029', '629.25', '631.210022', '625.609985', '632.590027', '631.929993', '628.00', '627.26001', '623.559998', '644.280029', '662.099976', '662.299988', '663.02002', '672.929993', '579.849976', '560.219971', '561.099976', '546.549988', '530.130005', '520.679993', '516.830017', '525.02002', '522.859985', '523.400024', '521.840027'], 'Open': ['622.049988', '627.00', '634.400024', '636.789978', '637.789978', '635.469971', '626.700012', '625.700012', '619.75', '613.099976', '621.219971', '612.48999', '600.00', '617.00', '605.590027', '602.359985', '627.539978', '632.820007', '639.400024', '610.349976', '614.909973', '573.00', '639.780029', '655.460022', '656.599976', '661.900024', '656.799988', '655.01001', '659.322021', '663.080017', '669.200012', '639.47998', '640.22998', '645.00', '634.330017', '628.419983', '625.340027', '631.380005', '630.00', '628.799988', '632.830017', '621.00', '647.00', '661.27002', '660.890015', '655.210022', '659.23999', '649.00', '565.119995', '560.130005', '546.76001', '532.880005', '526.289978', '523.119995', '521.049988', '523.130005', '519.50', '521.080017', '524.72998']}\n"
     ]
    }
   ],
   "source": [
    "answer=unhide('Kcr24NJO0Djoq+xyK6qltiqYVGbwhUqibi60KIn+JLATUnYpBX46utBfpOcNBLPWNk2RDWuQjEptQ+wVhqcPkmQR4Z5tEC1Pgr5S+OUa2rQVXfjKdoaSiR/Oeso7Z2gD06qi/JHU8SbK2+dBeNtbRljGSeJo2ze5SC/8tbzmMLl+DjfJnfHX0rfmxx3yxkCD5M3+FJ8Wsn+oETUtkrbcig==')\n",
    "\n",
    "print answer\n",
    "print\n",
    "exec(answer)"
   ]
  },
  {
   "cell_type": "markdown",
   "metadata": {},
   "source": [
    "<br>\n",
    "<br><br><center><font color=#ff6347 size=6 face='arial black'>Objects</font></center><br><br>\n",
    "<br>"
   ]
  },
  {
   "cell_type": "markdown",
   "metadata": {},
   "source": [
    "<br>\n",
    "<center><font color=#505050 size=5 face='Consolas'>What will happen with the following code?\n",
    "</font></center>\n",
    "<br>"
   ]
  },
  {
   "cell_type": "code",
   "execution_count": 373,
   "metadata": {
    "collapsed": false
   },
   "outputs": [
    {
     "ename": "TypeError",
     "evalue": "unsupported operand type(s) for +: 'dict' and 'dict'",
     "output_type": "error",
     "traceback": [
      "\u001b[0;31m---------------------------------------------------------------------------\u001b[0m",
      "\u001b[0;31mTypeError\u001b[0m                                 Traceback (most recent call last)",
      "\u001b[0;32m<ipython-input-373-100524f3864f>\u001b[0m in \u001b[0;36m<module>\u001b[0;34m()\u001b[0m\n\u001b[0;32m----> 1\u001b[0;31m \u001b[0;34m{\u001b[0m\u001b[0;34m'a'\u001b[0m\u001b[0;34m:\u001b[0m\u001b[0;36m1\u001b[0m\u001b[0;34m,\u001b[0m\u001b[0;34m'b'\u001b[0m\u001b[0;34m:\u001b[0m\u001b[0;36m2\u001b[0m\u001b[0;34m,\u001b[0m\u001b[0;34m'c'\u001b[0m\u001b[0;34m:\u001b[0m\u001b[0;36m3\u001b[0m\u001b[0;34m}\u001b[0m \u001b[0;34m+\u001b[0m \u001b[0;34m{\u001b[0m\u001b[0;34m'd'\u001b[0m\u001b[0;34m:\u001b[0m\u001b[0;36m4\u001b[0m\u001b[0;34m,\u001b[0m\u001b[0;34m'e'\u001b[0m\u001b[0;34m:\u001b[0m\u001b[0;36m5\u001b[0m\u001b[0;34m,\u001b[0m\u001b[0;34m'f'\u001b[0m\u001b[0;34m:\u001b[0m\u001b[0;36m6\u001b[0m\u001b[0;34m}\u001b[0m\u001b[0;34m\u001b[0m\u001b[0m\n\u001b[0m",
      "\u001b[0;31mTypeError\u001b[0m: unsupported operand type(s) for +: 'dict' and 'dict'"
     ]
    }
   ],
   "source": [
    "{'a':1,'b':2,'c':3} + {'d':4,'e':5,'f':6}"
   ]
  },
  {
   "cell_type": "markdown",
   "metadata": {},
   "source": [
    "<br>\n",
    "<center><font color=#505050 size=5 face='Consolas'>What ought to happen?\n",
    "</font></center>\n",
    "<br>"
   ]
  },
  {
   "cell_type": "code",
   "execution_count": 374,
   "metadata": {
    "collapsed": false
   },
   "outputs": [
    {
     "data": {
      "text/plain": [
       "[('a', 1), ('c', 3), ('b', 2), ('e', 5), ('d', 4), ('f', 6)]"
      ]
     },
     "execution_count": 374,
     "metadata": {},
     "output_type": "execute_result"
    }
   ],
   "source": [
    "a = {'a':1,'b':2,'c':3}\n",
    "b = {'d':4,'e':5,'f':6}\n",
    "\n",
    "def add_dicts(x,y):\n",
    "    return x.items()+y.items()\n",
    "\n",
    "add_dicts(a,b)"
   ]
  },
  {
   "cell_type": "code",
   "execution_count": 375,
   "metadata": {
    "collapsed": false
   },
   "outputs": [
    {
     "data": {
      "text/plain": [
       "{'a': 1, 'b': 2, 'c': 3, 'd': 4, 'e': 5, 'f': 6}"
      ]
     },
     "execution_count": 375,
     "metadata": {},
     "output_type": "execute_result"
    }
   ],
   "source": [
    "def add_dicts(x,y):\n",
    "    return dict(x.items()+y.items())\n",
    "\n",
    "add_dicts(a,b)"
   ]
  },
  {
   "cell_type": "code",
   "execution_count": 378,
   "metadata": {
    "collapsed": false
   },
   "outputs": [
    {
     "name": "stdout",
     "output_type": "stream",
     "text": [
      "type of x: <class '__main__.addable_dict'>\n",
      "x  :  {'a': 1, 'c': 3, 'b': 2}\n",
      "y  :  {'e': 5, 'd': 4, 'f': 6}\n",
      "x+y:  {'a': 1, 'c': 3, 'b': 2, 'e': 5, 'd': 4, 'f': 6}\n"
     ]
    }
   ],
   "source": [
    "class addable_dict(dict):\n",
    "\tdef __add__(self,other):\n",
    "\t\treturn addable_dict(self.items()+other.items())\n",
    "    \n",
    "x = addable_dict({'a':1,'b':2,'c':3})\n",
    "y = addable_dict({'d':4,'e':5,'f':6})\n",
    "\n",
    "print 'type of x:', type(x)\n",
    "print 'x  : ',x\n",
    "print 'y  : ',y\n",
    "print 'x+y: ',x+y"
   ]
  },
  {
   "cell_type": "code",
   "execution_count": 379,
   "metadata": {
    "collapsed": false
   },
   "outputs": [
    {
     "name": "stdout",
     "output_type": "stream",
     "text": [
      "{'a': 1, 'c': 3, 'b': 2, 'e': 5, 'd': 4, 'g': 7, 'f': 6, 'i': 9, 'h': 8, 'k': 11, 'j': 10, 'l': 12}\n"
     ]
    }
   ],
   "source": [
    "z = addable_dict({'g':7,'h':8,'i':9})\n",
    "w = addable_dict({'j':10,'k':11,'l':12})\n",
    "\n",
    "print x+y+z+w"
   ]
  },
  {
   "cell_type": "code",
   "execution_count": 380,
   "metadata": {
    "collapsed": true
   },
   "outputs": [],
   "source": [
    "class add_and_sub_dict(addable_dict):\n",
    "\tdef __sub__(self,other):\n",
    "\t\ttemp = self.copy()\n",
    "\t\t\n",
    "\t\tfor key in other.keys():\n",
    "\t\t\tif temp.has_key(key): del temp[key]\n",
    "\t\t\t\n",
    "\t\treturn temp"
   ]
  },
  {
   "cell_type": "code",
   "execution_count": 391,
   "metadata": {
    "collapsed": false,
    "scrolled": true
   },
   "outputs": [
    {
     "name": "stdout",
     "output_type": "stream",
     "text": [
      "x:  {'a': 1, 'c': 3, 'b': 2}\n",
      "x:  {'a': 4, 'e': 5, 'f': 6}\n",
      "x+y:  {'a': 4, 'c': 3, 'b': 2, 'e': 5, 'f': 6}\n",
      "x-y:  {'c': 3, 'b': 2}\n"
     ]
    }
   ],
   "source": [
    "x = add_and_sub_dict({'a':1,'b':2,'c':3})\n",
    "y = add_and_sub_dict({'a':4,'e':5,'f':6})\n",
    "\n",
    "print 'x: ',x\n",
    "print 'x: ',y\n",
    "print 'x+y: ',x+y\n",
    "print 'x-y: ',x-y"
   ]
  },
  {
   "cell_type": "code",
   "execution_count": 387,
   "metadata": {
    "collapsed": true
   },
   "outputs": [],
   "source": [
    "class minimal_class(object):\n",
    "    pass"
   ]
  },
  {
   "cell_type": "code",
   "execution_count": 388,
   "metadata": {
    "collapsed": false
   },
   "outputs": [],
   "source": [
    "x = minimal_class()\n",
    "x.whatever = 5"
   ]
  },
  {
   "cell_type": "code",
   "execution_count": 389,
   "metadata": {
    "collapsed": false
   },
   "outputs": [
    {
     "name": "stdout",
     "output_type": "stream",
     "text": [
      "5\n"
     ]
    }
   ],
   "source": [
    "print x.whatever"
   ]
  },
  {
   "cell_type": "code",
   "execution_count": 410,
   "metadata": {
    "collapsed": false
   },
   "outputs": [],
   "source": [
    "class named_list(object):\n",
    "    def __init__(self, name,data):\n",
    "        self.name = name\n",
    "        self.data = data\n",
    "    \n",
    "    def __add__(self, other):\n",
    "        temp = named_list('',[])\n",
    "        temp.name = self.name +\" and \" + other.name\n",
    "        temp.data = self.data + other.data\n",
    "        return temp\n",
    "    \n",
    "    def __str__(self):\n",
    "        return \"name: \"+self.name+\"; data: \"+str(self.data)\n",
    "    "
   ]
  },
  {
   "cell_type": "code",
   "execution_count": 411,
   "metadata": {
    "collapsed": false,
    "scrolled": true
   },
   "outputs": [
    {
     "name": "stdout",
     "output_type": "stream",
     "text": [
      "name: Monday; data: [1, 2, 3]\n",
      "name: Tuesday; data: [4, 5, 6]\n",
      "name: Monday and Tuesday; data: [1, 2, 3, 4, 5, 6]\n"
     ]
    }
   ],
   "source": [
    "x = named_list('Monday',[1,2,3])\n",
    "y = named_list('Tuesday',[4,5,6])\n",
    "\n",
    "print x\n",
    "print y\n",
    "print x+y"
   ]
  },
  {
   "cell_type": "code",
   "execution_count": 412,
   "metadata": {
    "collapsed": false
   },
   "outputs": [
    {
     "name": "stdout",
     "output_type": "stream",
     "text": [
      "name: Monday and Tuesday and Wednesday; data: [1, 2, 3, 4, 5, 6, 7, 8, 9]\n"
     ]
    }
   ],
   "source": [
    "z = named_list('Wednesday',[7,8,9])\n",
    "\n",
    "print x+y+z"
   ]
  },
  {
   "cell_type": "code",
   "execution_count": 384,
   "metadata": {
    "collapsed": false,
    "scrolled": true
   },
   "outputs": [],
   "source": [
    "import this"
   ]
  },
  {
   "cell_type": "markdown",
   "metadata": {},
   "source": [
    "<font color=#505050 size=3 face='arial black'>\n",
    "Generally, the zen of python is thought to capture what it means to write <font color=#ff6347>pythonic code</font>.\n",
    "</font>"
   ]
  },
  {
   "cell_type": "markdown",
   "metadata": {},
   "source": [
    "<br>\n",
    "<center><font color=#505050 size=5 face='arial black'>\n",
    "The most important principle is: <br>\n",
    "\t<font color=#ff6347>Practicality beats purity</font>    \n",
    "The point of learning python is to get things done.\n",
    "</font></center>\n",
    "<br>"
   ]
  },
  {
   "cell_type": "markdown",
   "metadata": {},
   "source": [
    "<br><br><br><center><font color=#ff6347 size=8 face='arial black'>Thanks for listening!</font></center><br><br>"
   ]
  },
  {
   "cell_type": "code",
   "execution_count": 385,
   "metadata": {
    "collapsed": true
   },
   "outputs": [],
   "source": [
    "import this"
   ]
  },
  {
   "cell_type": "code",
   "execution_count": null,
   "metadata": {
    "collapsed": true
   },
   "outputs": [],
   "source": []
  }
 ],
 "metadata": {
  "kernelspec": {
   "display_name": "Python 2",
   "language": "python",
   "name": "python2"
  },
  "language_info": {
   "codemirror_mode": {
    "name": "ipython",
    "version": 2
   },
   "file_extension": ".py",
   "mimetype": "text/x-python",
   "name": "python",
   "nbconvert_exporter": "python",
   "pygments_lexer": "ipython2",
   "version": "2.7.10"
  }
 },
 "nbformat": 4,
 "nbformat_minor": 0
}
