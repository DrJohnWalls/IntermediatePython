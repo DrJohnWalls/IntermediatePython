{
 "cells": [
  {
   "cell_type": "markdown",
   "metadata": {},
   "source": [
    "<br><br><center><font color=#505050 size=8 face='arial black'>Intermediate Python Workshop</font></center>  <br><br><center><font color=#13577F size=5 face='arial black'>Kareem Carr</font></center><br><br>\n",
    "<font color=#505050 size=3 face='arial black'>\n",
    "<font color=#505050 size=5 face='arial black'>Data Science Services @ Harvard </font>\n",
    "<br><br>FREE advice for anybody working on publishable research at Harvard or MIT including undergraduates and graduate students (under guidance of a faculty advisor), postdocs, professors and other affiliates.  Our goal is to increase the level of computational and statistical knowledge across the Harvard and MIT research community.\n",
    "\n",
    "We provide short consultations with a data scientist on technical issues presenting a barrier to research including problems in <font color=#0E77B8>statistical analysis</font>, <font color=#0E77B8>programming</font>, <font color=#0E77B8>experiment design</font> and <font color=#0E77B8>high performance computing</font>.\n",
    "<br><br><font color=#0E77B8 size=3 face='arial black'>email: </font><a href=\"mailto:help@iq.harvard.edu\">help@iq.harvard.edu</a><br>\n",
    "<font color=#0E77B8 size=3 face='arial black'>website:</font> http://projects.iq.harvard.edu/rtc \n",
    "<br><br><br>\n",
    "\n",
    "<br><font color=#505050 size=5 face='arial black'>Objectives of the Workshop</font><br><br>\n",
    "\n",
    "<font color=#505050 size=3 face='arial black'>\n",
    "<p>The goal of this class is not only to build on the knowledge that you may have gained either from the first course in this series or on your own, it's also to add to your conceptual understanding of Python. Put simply, at the end of this course, you should know a little bit more about writing <font color=#0E77B8>pythonic code</font>.</p>\n",
    "\n",
    "<p>Code is pythonic if it uses the idioms of Python.</p>\n",
    "<br>\n",
    "\n",
    "</font>"
   ]
  },
  {
   "cell_type": "markdown",
   "metadata": {
    "collapsed": false
   },
   "source": [
    "<br><br><center><font color=#13577F size=8 face='arial black'>0. Introduction to Python Review</font></center><br><br>"
   ]
  },
  {
   "cell_type": "markdown",
   "metadata": {
    "collapsed": true
   },
   "source": [
    "<font color=#505050 size=5 face='arial black'>\n",
    "Python has two basic containers: <font color=#0E77B8>dictionaries</font> and <font color=#0E77B8>lists</font>\n",
    "</font>"
   ]
  },
  {
   "cell_type": "code",
   "execution_count": null,
   "metadata": {
    "collapsed": true
   },
   "outputs": [],
   "source": [
    "from __future__ import print_function"
   ]
  },
  {
   "cell_type": "code",
   "execution_count": null,
   "metadata": {
    "collapsed": false
   },
   "outputs": [],
   "source": [
    "names = ['Alice','Bob','Calvin','Dana','Ester']"
   ]
  },
  {
   "cell_type": "code",
   "execution_count": null,
   "metadata": {
    "collapsed": false
   },
   "outputs": [],
   "source": [
    "print(names)"
   ]
  },
  {
   "cell_type": "code",
   "execution_count": null,
   "metadata": {
    "collapsed": false
   },
   "outputs": [],
   "source": [
    "print (names[0],names[1], names[-1],sep='\\n')"
   ]
  },
  {
   "cell_type": "code",
   "execution_count": null,
   "metadata": {
    "collapsed": false
   },
   "outputs": [],
   "source": [
    "[ len(thing) for thing in names]"
   ]
  },
  {
   "cell_type": "code",
   "execution_count": null,
   "metadata": {
    "collapsed": false
   },
   "outputs": [],
   "source": [
    "[thing for thing in names if len(thing) < 5]"
   ]
  },
  {
   "cell_type": "code",
   "execution_count": null,
   "metadata": {
    "collapsed": false
   },
   "outputs": [],
   "source": [
    "Things={'Sky':'Blue', 'Grass':'Green','Sun':'Yellow','Harvard':'Crimson'}"
   ]
  },
  {
   "cell_type": "code",
   "execution_count": null,
   "metadata": {
    "collapsed": false
   },
   "outputs": [],
   "source": [
    "Things['Sky']"
   ]
  },
  {
   "cell_type": "code",
   "execution_count": null,
   "metadata": {
    "collapsed": false,
    "scrolled": true
   },
   "outputs": [],
   "source": [
    "Things.keys()"
   ]
  },
  {
   "cell_type": "code",
   "execution_count": null,
   "metadata": {
    "collapsed": false,
    "scrolled": true
   },
   "outputs": [],
   "source": [
    "Things.values()"
   ]
  },
  {
   "cell_type": "markdown",
   "metadata": {},
   "source": [
    "<font color=#505050 size=3 face='arial black'>\n",
    "Going from a list to dictionary\n",
    "</font>"
   ]
  },
  {
   "cell_type": "code",
   "execution_count": null,
   "metadata": {
    "collapsed": false,
    "scrolled": true
   },
   "outputs": [],
   "source": [
    "zipped_list = zip(['Alice','Bob','Eve'],['yes','no','no'])\n",
    "print ('zipped_list:', zipped_list,sep=' ')"
   ]
  },
  {
   "cell_type": "code",
   "execution_count": null,
   "metadata": {
    "collapsed": false
   },
   "outputs": [],
   "source": [
    "my_dictionary=dict([('Alice', 'yes'), ('Bob', 'no'), ('Eve', 'no')])\n",
    "print('my_dictionary:', my_dictionary,sep=' ')"
   ]
  },
  {
   "cell_type": "markdown",
   "metadata": {},
   "source": [
    "<font color=#505050 size=5 face='arial black'>\n",
    "Short introduction to <font color=#0E77B8>sets</font>\n",
    "</font>"
   ]
  },
  {
   "cell_type": "code",
   "execution_count": null,
   "metadata": {
    "collapsed": false
   },
   "outputs": [],
   "source": [
    "A={'mouse',4,2.6}"
   ]
  },
  {
   "cell_type": "code",
   "execution_count": null,
   "metadata": {
    "collapsed": true
   },
   "outputs": [],
   "source": [
    "B={4,'abcdarian','birds'}"
   ]
  },
  {
   "cell_type": "code",
   "execution_count": null,
   "metadata": {
    "collapsed": false
   },
   "outputs": [],
   "source": [
    "print(A-B) #difference"
   ]
  },
  {
   "cell_type": "code",
   "execution_count": null,
   "metadata": {
    "collapsed": false
   },
   "outputs": [],
   "source": [
    "print(A | B) #union"
   ]
  },
  {
   "cell_type": "code",
   "execution_count": null,
   "metadata": {
    "collapsed": false
   },
   "outputs": [],
   "source": [
    "print(A & B) #intersection"
   ]
  },
  {
   "cell_type": "markdown",
   "metadata": {},
   "source": [
    "<font color=#505050 size=3 face='arial black'>\n",
    "The <font color=#0E77B8>set</font> container saves one copy of each element of the list\n",
    "</font>"
   ]
  },
  {
   "cell_type": "code",
   "execution_count": null,
   "metadata": {
    "collapsed": false
   },
   "outputs": [],
   "source": [
    "my_list = [1,2,1,2,3,2,4,2,1]\n",
    "print(my_list)"
   ]
  },
  {
   "cell_type": "code",
   "execution_count": null,
   "metadata": {
    "collapsed": false
   },
   "outputs": [],
   "source": [
    "my_set = set(my_list)\n",
    "print(my_set)"
   ]
  },
  {
   "cell_type": "code",
   "execution_count": null,
   "metadata": {
    "collapsed": false
   },
   "outputs": [],
   "source": [
    "my_new_list = list(my_set)\n",
    "print(my_new_list)"
   ]
  },
  {
   "cell_type": "markdown",
   "metadata": {},
   "source": [
    "<font color=#505050 size=3 face='arial black'>\n",
    "Sets are optimized for finding things fast (but lack the ability to have duplicates).\n",
    "</font>"
   ]
  },
  {
   "cell_type": "code",
   "execution_count": null,
   "metadata": {
    "collapsed": true
   },
   "outputs": [],
   "source": [
    "list_var = range(10000)\n",
    "set_var = set(list_var)"
   ]
  },
  {
   "cell_type": "code",
   "execution_count": null,
   "metadata": {
    "collapsed": false
   },
   "outputs": [],
   "source": [
    "%timeit 10000 in list_var"
   ]
  },
  {
   "cell_type": "code",
   "execution_count": null,
   "metadata": {
    "collapsed": false,
    "scrolled": true
   },
   "outputs": [],
   "source": [
    "%timeit 10000 in set_var"
   ]
  },
  {
   "cell_type": "markdown",
   "metadata": {},
   "source": [
    "<font color=#505050 size=3 face='arial black'>\n",
    "It can more than a thousand times faster to check membership in a set vs. a list\n",
    "</font>"
   ]
  },
  {
   "cell_type": "markdown",
   "metadata": {},
   "source": [
    "<font color=#505050 size=5 face='arial black'>\n",
    "Overview of Functions\n",
    "</font>"
   ]
  },
  {
   "cell_type": "code",
   "execution_count": null,
   "metadata": {
    "collapsed": false
   },
   "outputs": [],
   "source": [
    "def f(x):\n",
    "    return x\n",
    "\n",
    "f(2)"
   ]
  },
  {
   "cell_type": "code",
   "execution_count": null,
   "metadata": {
    "collapsed": false
   },
   "outputs": [],
   "source": [
    "def my_max(x,y):\n",
    "    if x > y: return x\n",
    "    return y\n",
    "\n",
    "print(max(4,5),max(5,4),sep='\\n')"
   ]
  },
  {
   "cell_type": "code",
   "execution_count": null,
   "metadata": {
    "collapsed": false
   },
   "outputs": [],
   "source": [
    "g = lambda x: 5*x\n",
    "g(2)"
   ]
  },
  {
   "cell_type": "markdown",
   "metadata": {},
   "source": [
    "<font color=#505050 size=5 face='arial black'>\n",
    "Apply functions to lists\n",
    "</font>"
   ]
  },
  {
   "cell_type": "code",
   "execution_count": null,
   "metadata": {
    "collapsed": false
   },
   "outputs": [],
   "source": [
    "names = [ ['Harry','Potter'],['Hermione','Granger'],['Ron','Weasley'] ]"
   ]
  },
  {
   "cell_type": "code",
   "execution_count": null,
   "metadata": {
    "collapsed": false
   },
   "outputs": [],
   "source": [
    "len(names)"
   ]
  },
  {
   "cell_type": "code",
   "execution_count": null,
   "metadata": {
    "collapsed": false
   },
   "outputs": [],
   "source": [
    "[ name[0] for name in names  ]"
   ]
  },
  {
   "cell_type": "code",
   "execution_count": null,
   "metadata": {
    "collapsed": true
   },
   "outputs": [],
   "source": [
    "def first_name(s):\n",
    "    return s[0]"
   ]
  },
  {
   "cell_type": "code",
   "execution_count": null,
   "metadata": {
    "collapsed": false
   },
   "outputs": [],
   "source": [
    "map(first_name,names)"
   ]
  },
  {
   "cell_type": "code",
   "execution_count": null,
   "metadata": {
    "collapsed": false
   },
   "outputs": [],
   "source": [
    "map(lambda s: s[0], names)"
   ]
  },
  {
   "cell_type": "code",
   "execution_count": null,
   "metadata": {
    "collapsed": false
   },
   "outputs": [],
   "source": [
    "from operator import itemgetter\n",
    "map(itemgetter(0),(names))"
   ]
  },
  {
   "cell_type": "code",
   "execution_count": null,
   "metadata": {
    "collapsed": false,
    "scrolled": true
   },
   "outputs": [],
   "source": [
    "map(itemgetter(0,1),names)"
   ]
  },
  {
   "cell_type": "markdown",
   "metadata": {},
   "source": [
    "<br>\n",
    "<font color=#505050 size=5 face='Consolas'>Can you think of a way to write a function that takes a list as input and returns a new list containing only one copy of each element of the original list? Write such a function and apply it to the variable data\n",
    "</font>\n",
    "<br>"
   ]
  },
  {
   "cell_type": "code",
   "execution_count": null,
   "metadata": {
    "collapsed": false
   },
   "outputs": [],
   "source": [
    "data = ['6', '4', '2', '3', '6', '4', '6', '5', '0', '5', '6', '7', '6', '2', '6',\n",
    "        '0', '6', '8', '7', '3', '3', '1', '4', '6', '4', '1', '7', '1', '2', '8',\n",
    "        '2', '6', '4', '3', '7', '1', '7', '5', '8', '8', '0', '2', '6', '0', '9',\n",
    "        '7', '6', '4', '8', '4', '1', '0', '8', '0', '3', '6', '1', '1', '8', '8',\n",
    "        '0', '9', '9', '4', '1', '7', '1', '8', '7', '4', '4', '8', '8', '4', '6',\n",
    "        '3', '3', '1', '2', '8', '9', '5', '6', '9', '9', '3', '5', '6', '6', '5',\n",
    "        '9', '4', '9', '2', '7', '0', '0', '7', '6', '6']"
   ]
  },
  {
   "cell_type": "markdown",
   "metadata": {},
   "source": [
    "<font color=#505050 size=4.5 face='arial black'>Final Warm-Up: The Tally Problem</font> <br>"
   ]
  },
  {
   "cell_type": "code",
   "execution_count": null,
   "metadata": {
    "collapsed": false,
    "scrolled": true
   },
   "outputs": [],
   "source": [
    "data = ['6', '4', '2', '3', '6', '4', '6', '5', '0', '5', '6', '7', '6', '2', '6',\n",
    "        '0', '6', '8', '7', '3', '3', '1', '4', '6', '4', '1', '7', '1', '2', '8',\n",
    "        '2', '6', '4', '3', '7', '1', '7', '5', '8', '8', '0', '2', '6', '0', '9',\n",
    "        '7', '6', '4', '8', '4', '1', '0', '8', '0', '3', '6', '1', '1', '8', '8',\n",
    "        '0', '9', '9', '4', '1', '7', '1', '8', '7', '4', '4', '8', '8', '4', '6',\n",
    "        '3', '3', '1', '2', '8', '9', '5', '6', '9', '9', '3', '5', '6', '6', '5',\n",
    "        '9', '4', '9', '2', '7', '0', '0', '7', '6', '6']\n"
   ]
  },
  {
   "cell_type": "code",
   "execution_count": null,
   "metadata": {
    "collapsed": false
   },
   "outputs": [],
   "source": [
    "from collections import Counter\n",
    "print Counter(data)\n",
    "print\n",
    "print dict(Counter(data))"
   ]
  },
  {
   "cell_type": "markdown",
   "metadata": {},
   "source": [
    "<br>\n",
    "<font color=#505050 size=5 face='Consolas'>Write code that tallies <font color=#0E77B8>data</font> and creates a dictionary where each unique member of data is a key and the value is a count of the occurences of that member.\n",
    "<br>\n",
    "<br>\n",
    "Hint: What does data.count(\"1\") do?\n",
    "</font>\n",
    "<br>"
   ]
  },
  {
   "cell_type": "code",
   "execution_count": null,
   "metadata": {
    "collapsed": true
   },
   "outputs": [],
   "source": []
  },
  {
   "cell_type": "markdown",
   "metadata": {},
   "source": [
    "<br><br><center><font color=#13577F size=6 face='arial black'>A short discussion of mutability and immutability</font></center><br><br>"
   ]
  },
  {
   "cell_type": "code",
   "execution_count": null,
   "metadata": {
    "collapsed": false
   },
   "outputs": [],
   "source": [
    "import random\n",
    "\n",
    "x = range(15)\n",
    "print ('original:', x,sep=' ')\n",
    "print()\n",
    "random.shuffle(x)\n",
    "print('shuffled:',x,sep=' ')"
   ]
  },
  {
   "cell_type": "markdown",
   "metadata": {},
   "source": [
    "<font color=#505050 size=3 face='arial black'>\n",
    "There are two basic ways to sort a list\n",
    "</font>"
   ]
  },
  {
   "cell_type": "code",
   "execution_count": null,
   "metadata": {
    "collapsed": false
   },
   "outputs": [],
   "source": [
    "x = range(15)\n",
    "random.shuffle(x)\n",
    "print('before sorting: ', x,sep=' ')\n",
    "print()\n",
    "x = sorted(x)\n",
    "print ('x after sorted command: ', x,sep=' ')"
   ]
  },
  {
   "cell_type": "code",
   "execution_count": null,
   "metadata": {
    "collapsed": false
   },
   "outputs": [],
   "source": [
    "x = range(15)\n",
    "random.shuffle(x)\n",
    "print('before sorting: ', x,sep=' ')\n",
    "print()\n",
    "x.sort()\n",
    "print('x after sort command: ', x,sep=' ')"
   ]
  },
  {
   "cell_type": "markdown",
   "metadata": {},
   "source": [
    "<font color=#505050 size=3 face='arial black'>\n",
    "One value changes the value of x and the other does not.\n",
    "</font>"
   ]
  },
  {
   "cell_type": "code",
   "execution_count": null,
   "metadata": {
    "collapsed": false
   },
   "outputs": [],
   "source": [
    "x = range(15)\n",
    "random.shuffle(x)\n",
    "y = sorted(x)\n",
    "print('original x:', x,sep=' ')\n",
    "print()\n",
    "print('x after sorted(x):', x,sep=' ')\n",
    "print()\n",
    "print('y after sorted(x):', y,sep=' ')\n",
    "print()\n",
    "x.sort()\n",
    "print('x after x.sort():', x,sep=' ')"
   ]
  },
  {
   "cell_type": "markdown",
   "metadata": {},
   "source": [
    "<font color=#505050 size=3 face='arial black'>\n",
    "If you think about variable x as a persistent entity. The <font color=#0E77B8>sorted</font> command doesn't change that persistent entity while the <font color=#0E77B8>sort</font> command does.\n",
    "</font>"
   ]
  },
  {
   "cell_type": "markdown",
   "metadata": {},
   "source": [
    "<br>\n",
    "<center><font color=#505050 size=5 face='Consolas'>What's going to happen if we run the code below. What's x? What's y?\n",
    "<br>"
   ]
  },
  {
   "cell_type": "code",
   "execution_count": null,
   "metadata": {
    "collapsed": false
   },
   "outputs": [],
   "source": [
    "x = range(15)\n",
    "random.shuffle(x)\n",
    "y = x\n",
    "y.sort()\n",
    "print('x:', x,sep=' ')\n",
    "print()\n",
    "print('y:', y,sep=' ')"
   ]
  },
  {
   "cell_type": "markdown",
   "metadata": {},
   "source": [
    "<br>\n",
    "<center><font color=#505050 size=5 face='Consolas'>How about this example?  What's x? What's y?\n",
    "<br>"
   ]
  },
  {
   "cell_type": "code",
   "execution_count": null,
   "metadata": {
    "collapsed": false
   },
   "outputs": [],
   "source": [
    "from copy import copy\n",
    "\n",
    "x = range(15)\n",
    "random.shuffle(x)\n",
    "y = copy(x)\n",
    "y.sort()\n",
    "print 'x:', x\n",
    "print\n",
    "print 'y:', y"
   ]
  },
  {
   "cell_type": "markdown",
   "metadata": {},
   "source": [
    "<br><center><font color=#13577F size=8 face='arial black'>1. Containers</font></center><br><br><br>"
   ]
  },
  {
   "cell_type": "markdown",
   "metadata": {},
   "source": [
    "<font color=#505050 size=3 face='arial black'>\n",
    "list:\n",
    "</font>"
   ]
  },
  {
   "cell_type": "code",
   "execution_count": null,
   "metadata": {
    "collapsed": true
   },
   "outputs": [],
   "source": [
    "x = []\n",
    "x = list()"
   ]
  },
  {
   "cell_type": "markdown",
   "metadata": {},
   "source": [
    "<font color=#505050 size=3 face='arial black'>\n",
    "dict:\n",
    "</font>"
   ]
  },
  {
   "cell_type": "code",
   "execution_count": null,
   "metadata": {
    "collapsed": true
   },
   "outputs": [],
   "source": [
    "y = {}\n",
    "y = dict()"
   ]
  },
  {
   "cell_type": "markdown",
   "metadata": {},
   "source": [
    "<font color=#505050 size=3 face='arial black'>\n",
    "What can you do with a list? I could just spell out the functions for you. But we are going to do it in a more pythonic way. Let's use the <font color=#0E77B8>dir</font> function\n",
    "<br>\n",
    "<br>\n",
    "The <font color=#0E77B8>dir</font> function lets you everything you can do to a variable of the type that you feed into it. For instance, you can feed in the type list, or you can feed in an example of a list.\n",
    "</font>"
   ]
  },
  {
   "cell_type": "code",
   "execution_count": null,
   "metadata": {
    "collapsed": false,
    "scrolled": true
   },
   "outputs": [],
   "source": [
    "print(dir([]))"
   ]
  },
  {
   "cell_type": "code",
   "execution_count": null,
   "metadata": {
    "collapsed": false,
    "scrolled": true
   },
   "outputs": [],
   "source": [
    "print(dir([1,2,3]))"
   ]
  },
  {
   "cell_type": "code",
   "execution_count": null,
   "metadata": {
    "collapsed": false,
    "scrolled": true
   },
   "outputs": [],
   "source": [
    "print(dir(list))"
   ]
  },
  {
   "cell_type": "code",
   "execution_count": null,
   "metadata": {
    "collapsed": false
   },
   "outputs": [],
   "source": [
    "def filtered_dir(input):\n",
    "    return filter(lambda x: not x.startswith('_'), dir(input))"
   ]
  },
  {
   "cell_type": "code",
   "execution_count": null,
   "metadata": {
    "collapsed": false
   },
   "outputs": [],
   "source": [
    "print(filtered_dir([]))"
   ]
  },
  {
   "cell_type": "markdown",
   "metadata": {},
   "source": [
    "<font color=#505050 size=3 face='arial black'>\n",
    "Functions with underscore typically mean not intended to be used directly.\n",
    "</font>"
   ]
  },
  {
   "cell_type": "markdown",
   "metadata": {},
   "source": [
    "<font color=#505050 size=4.5 face='arial black'>Magic functions</font> <br>"
   ]
  },
  {
   "cell_type": "code",
   "execution_count": null,
   "metadata": {
    "collapsed": false
   },
   "outputs": [],
   "source": [
    "print([1,2].__add__([3]))\n",
    "print()\n",
    "print([1,2] + [3])"
   ]
  },
  {
   "cell_type": "markdown",
   "metadata": {},
   "source": [
    "<font color=#505050 size=3 face='arial black'>\n",
    "<p><font color=#0E77B8> Magic <font color=#505050>or</font> Dunder functions </font> give you a way to talk about symbolic operations in python. This information will be useful later.</p>\n",
    "\n",
    "<p>Let's clean up the list of functions inside python</p>\n",
    "</font>"
   ]
  },
  {
   "cell_type": "code",
   "execution_count": null,
   "metadata": {
    "collapsed": false,
    "scrolled": true
   },
   "outputs": [],
   "source": [
    "print(filtered_dir(dir([])))"
   ]
  },
  {
   "cell_type": "markdown",
   "metadata": {},
   "source": [
    "<font color=#505050 size=3 face='arial black'>\n",
    "The tuple is a simpler version of list that's not mutable.\n",
    "</font>"
   ]
  },
  {
   "cell_type": "code",
   "execution_count": null,
   "metadata": {
    "collapsed": false
   },
   "outputs": [],
   "source": [
    "print(filtered_dir(tuple([])))"
   ]
  },
  {
   "cell_type": "code",
   "execution_count": null,
   "metadata": {
    "collapsed": false
   },
   "outputs": [],
   "source": [
    "print(filtered_dir({})) #dictionary"
   ]
  },
  {
   "cell_type": "code",
   "execution_count": null,
   "metadata": {
    "collapsed": false,
    "scrolled": true
   },
   "outputs": [],
   "source": [
    "print(filtered_dir(set([])))"
   ]
  },
  {
   "cell_type": "markdown",
   "metadata": {},
   "source": [
    "<br><center><font color=#13577F size=8 face='arial black'>2. Working with Containers</font></center><br><br><br>"
   ]
  },
  {
   "cell_type": "code",
   "execution_count": null,
   "metadata": {
    "collapsed": false
   },
   "outputs": [],
   "source": [
    "w = {'a':1,'b':2,'c':3} #dictionary\n",
    "x = (1,2,3) #tuple\n",
    "y = [4,5,6] #list\n",
    "z = {5,6,7} #set\n",
    "\n",
    "print('w:',type(w),sep=' ')\n",
    "print\n",
    "print('x:',type(x),sep=' ')\n",
    "print\n",
    "print('y:',type(y),sep=' ')\n",
    "print\n",
    "print('z:',type(z),sep=' ')"
   ]
  },
  {
   "cell_type": "markdown",
   "metadata": {},
   "source": [
    "<font color=#505050 size=3 face='arial black'>\n",
    "Conversions between containers mostly works seemlessly when it makes sense:\n",
    "</font>"
   ]
  },
  {
   "cell_type": "code",
   "execution_count": null,
   "metadata": {
    "collapsed": false,
    "scrolled": false
   },
   "outputs": [],
   "source": [
    "print(list(w),tuple(w),set(w),sep='\\n')"
   ]
  },
  {
   "cell_type": "code",
   "execution_count": null,
   "metadata": {
    "collapsed": false
   },
   "outputs": [],
   "source": [
    "for key in w:\n",
    "    print(key,w[key],sep=' ')"
   ]
  },
  {
   "cell_type": "markdown",
   "metadata": {},
   "source": [
    "<font color=#505050 size=3 face='arial black'>\n",
    "Installing modules inside ipython.\n",
    "</font>"
   ]
  },
  {
   "cell_type": "code",
   "execution_count": null,
   "metadata": {
    "collapsed": false,
    "scrolled": true
   },
   "outputs": [],
   "source": [
    "import pip\n",
    "pip.main(['install', 'yahoo-finance'])\n",
    "\n",
    "# pip install yahoo-finance"
   ]
  },
  {
   "cell_type": "code",
   "execution_count": null,
   "metadata": {
    "collapsed": false
   },
   "outputs": [],
   "source": [
    "pip.main(['search','finance'])"
   ]
  },
  {
   "cell_type": "code",
   "execution_count": null,
   "metadata": {
    "collapsed": false
   },
   "outputs": [],
   "source": [
    "from pprint import pprint\n",
    "\n",
    "from yahoo_finance import Share\n",
    "yahoo = Share('GOOG')\n",
    "data = yahoo.get_historical('2015-07-01', '2015-09-23')\n",
    "pprint(data[:5])"
   ]
  },
  {
   "cell_type": "markdown",
   "metadata": {},
   "source": [
    "<i>\n",
    "<br>\n",
    "<font color=#505050 size=5 face='Consolas'>What structure is produced by the <font color=#0E77B8>yahoo.get_historical</font> function? \n",
    "</font>\n",
    "<br>\n",
    "\n",
    "<br>\n",
    "<font color=#505050 size=5 face='Consolas'>What's an alternative way of storing the same information? \n",
    "</font>\n",
    "<br>\n",
    "<br>\n",
    "<font color=#505050 size=4 face='Consolas'> <font size=5>Write a function does the conversion.</font>\n",
    "<br>\n",
    "<ol>\n",
    "\n",
    "<li>Write a simple function to get the unique key names</li><br>\n",
    "\n",
    "<li>Write a simple function that uses the unique keys to do the final conversion</li><br>\n",
    "\n",
    "</ol>\n",
    "\n",
    "</font>\n",
    "<br>\n",
    "</i>"
   ]
  },
  {
   "cell_type": "code",
   "execution_count": null,
   "metadata": {
    "collapsed": true
   },
   "outputs": [],
   "source": []
  },
  {
   "cell_type": "markdown",
   "metadata": {},
   "source": [
    "<br><center><font color=#13577F size=8 face='arial black'>4. Objects</font></center><br><br><br>"
   ]
  },
  {
   "cell_type": "markdown",
   "metadata": {},
   "source": [
    "<br>\n",
    "<center><font color=#505050 size=5 face='Consolas'>What will happen with the following code?\n",
    "</font></center>\n",
    "<br>"
   ]
  },
  {
   "cell_type": "code",
   "execution_count": null,
   "metadata": {
    "collapsed": false
   },
   "outputs": [],
   "source": [
    "{'a':1,'b':2,'c':3} + {'d':4,'e':5,'f':6}"
   ]
  },
  {
   "cell_type": "markdown",
   "metadata": {},
   "source": [
    "<br>\n",
    "<center><font color=#505050 size=5 face='Consolas'>What ought to happen?\n",
    "</font></center>\n",
    "<br>"
   ]
  },
  {
   "cell_type": "code",
   "execution_count": null,
   "metadata": {
    "collapsed": false
   },
   "outputs": [],
   "source": [
    "a = {'a':1,'b':2,'c':3}\n",
    "b = {'d':4,'e':5,'f':6}\n",
    "\n",
    "def add_dicts(x,y):\n",
    "    return x.items()+y.items()\n",
    "\n",
    "add_dicts(a,b)"
   ]
  },
  {
   "cell_type": "code",
   "execution_count": null,
   "metadata": {
    "collapsed": false
   },
   "outputs": [],
   "source": [
    "def add_dicts(x,y):\n",
    "    return dict(x.items()+y.items())\n",
    "\n",
    "add_dicts(a,b)"
   ]
  },
  {
   "cell_type": "code",
   "execution_count": null,
   "metadata": {
    "collapsed": false
   },
   "outputs": [],
   "source": [
    "class addable_dict(dict):\n",
    "\tdef __add__(self,other):\n",
    "\t\treturn addable_dict(self.items()+other.items())\n",
    "    \n",
    "x = addable_dict({'a':1,'b':2,'c':3})\n",
    "y = addable_dict({'d':4,'e':5,'f':6})\n",
    "\n",
    "print 'type of x:', type(x)\n",
    "print 'x  : ',x\n",
    "print 'y  : ',y\n",
    "print 'x+y: ',x+y"
   ]
  },
  {
   "cell_type": "code",
   "execution_count": null,
   "metadata": {
    "collapsed": false
   },
   "outputs": [],
   "source": [
    "z = addable_dict({'g':7,'h':8,'i':9})\n",
    "w = addable_dict({'j':10,'k':11,'l':12})\n",
    "\n",
    "print(x+y+z+w)"
   ]
  },
  {
   "cell_type": "code",
   "execution_count": null,
   "metadata": {
    "collapsed": true
   },
   "outputs": [],
   "source": [
    "class minimal_class(object):\n",
    "    pass"
   ]
  },
  {
   "cell_type": "code",
   "execution_count": null,
   "metadata": {
    "collapsed": false
   },
   "outputs": [],
   "source": [
    "x = minimal_class()\n",
    "x.whatever = 5"
   ]
  },
  {
   "cell_type": "code",
   "execution_count": null,
   "metadata": {
    "collapsed": false
   },
   "outputs": [],
   "source": [
    "print(x.whatever)"
   ]
  },
  {
   "cell_type": "code",
   "execution_count": null,
   "metadata": {
    "collapsed": false
   },
   "outputs": [],
   "source": [
    "class named_list(object):\n",
    "    def __init__(self, name,data):\n",
    "        self.name = name\n",
    "        self.data = data\n",
    "    \n",
    "    def __add__(self, other):\n",
    "        temp = named_list('',[])\n",
    "        temp.name = self.name +\" and \" + other.name\n",
    "        temp.data = self.data + other.data\n",
    "        return temp\n",
    "    \n",
    "    def __str__(self):\n",
    "        return \"name: \"+self.name+\"; data: \"+str(self.data)\n",
    "    "
   ]
  },
  {
   "cell_type": "code",
   "execution_count": null,
   "metadata": {
    "collapsed": false,
    "scrolled": true
   },
   "outputs": [],
   "source": [
    "x = named_list('Monday',[1,2,3])\n",
    "y = named_list('Tuesday',[4,5,6])\n",
    "\n",
    "print(x,y,x+y,sep='\\n')"
   ]
  },
  {
   "cell_type": "code",
   "execution_count": null,
   "metadata": {
    "collapsed": false,
    "scrolled": true
   },
   "outputs": [],
   "source": [
    "z = named_list('Wednesday',[7,8,9])\n",
    "\n",
    "print(x+y+z)"
   ]
  },
  {
   "cell_type": "markdown",
   "metadata": {},
   "source": [
    "<font color=#505050 size=4.5 face='arial black'>Applying objects</font> <br>"
   ]
  },
  {
   "cell_type": "code",
   "execution_count": null,
   "metadata": {
    "collapsed": true
   },
   "outputs": [],
   "source": [
    "url = 'http://www.gutenberg.org/cache/epub/%s/pg%s.txt'\n",
    "url"
   ]
  },
  {
   "cell_type": "code",
   "execution_count": null,
   "metadata": {
    "collapsed": true
   },
   "outputs": [],
   "source": [
    "url % ('11','11')"
   ]
  },
  {
   "cell_type": "code",
   "execution_count": null,
   "metadata": {
    "collapsed": true
   },
   "outputs": [],
   "source": [
    "url = url % ('11','11')"
   ]
  },
  {
   "cell_type": "code",
   "execution_count": null,
   "metadata": {
    "collapsed": true
   },
   "outputs": [],
   "source": [
    "import urllib2\n",
    "webpage = urllib2.urlopen(url)\n",
    "data = webpage.read()"
   ]
  },
  {
   "cell_type": "code",
   "execution_count": null,
   "metadata": {
    "collapsed": false
   },
   "outputs": [],
   "source": [
    "print(data[:750])"
   ]
  },
  {
   "cell_type": "code",
   "execution_count": null,
   "metadata": {
    "collapsed": false
   },
   "outputs": [],
   "source": [
    "import re\n",
    "title_search = re.search('Title:.*',data)"
   ]
  },
  {
   "cell_type": "code",
   "execution_count": null,
   "metadata": {
    "collapsed": false
   },
   "outputs": [],
   "source": [
    "title_search.group()"
   ]
  },
  {
   "cell_type": "code",
   "execution_count": null,
   "metadata": {
    "collapsed": false,
    "scrolled": true
   },
   "outputs": [],
   "source": [
    "author_search = re.search('Author:.*',data)\n",
    "language_search = re.search('Language:.*',data)\n",
    "print(author_search.group(),language_search.group(),sep='\\n')"
   ]
  },
  {
   "cell_type": "code",
   "execution_count": null,
   "metadata": {
    "collapsed": true
   },
   "outputs": [],
   "source": [
    "author = re.search('Author:.*',data).group()[7:].strip()\n",
    "title = re.search('Title:.*',data).group()[6:].strip()\n",
    "language = re.search('Language:.*',data).group()[9:].strip()"
   ]
  },
  {
   "cell_type": "code",
   "execution_count": null,
   "metadata": {
    "collapsed": false
   },
   "outputs": [],
   "source": [
    "print(author,title,language)"
   ]
  },
  {
   "cell_type": "code",
   "execution_count": null,
   "metadata": {
    "collapsed": false
   },
   "outputs": [],
   "source": [
    "preamble,body = re.split('\\*\\*\\* START OF THIS PROJECT GUTENBERG EBOOK.*',data)"
   ]
  },
  {
   "cell_type": "code",
   "execution_count": null,
   "metadata": {
    "collapsed": false,
    "scrolled": true
   },
   "outputs": [],
   "source": [
    "print(preamble)"
   ]
  },
  {
   "cell_type": "code",
   "execution_count": null,
   "metadata": {
    "collapsed": true
   },
   "outputs": [],
   "source": [
    "class GutenburgBook(object):\n",
    "    def __init__(self, location):\n",
    "        location = str(location)\n",
    "        \n",
    "        webpage = urllib2.urlopen('http://www.gutenberg.org/cache/epub/%s/pg%s.txt'%(location,location))\n",
    "        self.raw_text = webpage.read()\n",
    "    \n",
    "        self.author = re.search('Author:.*',self.raw_text).group()[7:].strip()\n",
    "        self.title = re.search('Title:.*',self.raw_text).group()[6:].strip()\n",
    "        self.language = re.search('Language:.*',self.raw_text).group()[9:].strip()\n",
    "        \n",
    "        self.preamble,self.body = re.split('\\*\\*\\* START OF THIS PROJECT GUTENBERG EBOOK.*',self.raw_text)\n",
    "        "
   ]
  },
  {
   "cell_type": "code",
   "execution_count": null,
   "metadata": {
    "collapsed": false
   },
   "outputs": [],
   "source": [
    "book = GutenburgBook(9)"
   ]
  },
  {
   "cell_type": "code",
   "execution_count": null,
   "metadata": {
    "collapsed": false
   },
   "outputs": [],
   "source": [
    "print(book.author,book.title,book.language,sep='\\n')"
   ]
  },
  {
   "cell_type": "code",
   "execution_count": null,
   "metadata": {
    "collapsed": false
   },
   "outputs": [],
   "source": [
    "print(book.preamble)"
   ]
  },
  {
   "cell_type": "code",
   "execution_count": null,
   "metadata": {
    "collapsed": false
   },
   "outputs": [],
   "source": [
    "import nltk\n",
    "from nltk.tokenize import RegexpTokenizer\n",
    "\n",
    "word_tokenizer = RegexpTokenizer(r'\\w+').tokenize\n",
    "words = word_tokenizer(book.body)\n",
    "words = map(string.lower,words)"
   ]
  },
  {
   "cell_type": "code",
   "execution_count": null,
   "metadata": {
    "collapsed": false
   },
   "outputs": [],
   "source": [
    "words = sorted(list(set(words)))\n",
    "words[:20]"
   ]
  },
  {
   "cell_type": "code",
   "execution_count": null,
   "metadata": {
    "collapsed": false,
    "scrolled": true
   },
   "outputs": [],
   "source": [
    "words = filter(lambda s: not s.isdigit(),words)\n",
    "words[:20]"
   ]
  },
  {
   "cell_type": "code",
   "execution_count": null,
   "metadata": {
    "collapsed": true
   },
   "outputs": [],
   "source": [
    "class GutenburgBook(object):\n",
    "    def __init__(self, location):\n",
    "        location = str(location)\n",
    "        \n",
    "        webpage = urllib2.urlopen('http://www.gutenberg.org/cache/epub/%s/pg%s.txt'%(location,location))\n",
    "        self.raw_text = webpage.read()\n",
    "    \n",
    "        self.author = re.search('Author:.*',self.raw_text).group()[7:].strip()\n",
    "        self.title = re.search('Title:.*',self.raw_text).group()[6:].strip()\n",
    "        self.language = re.search('Language:.*',self.raw_text).group()[9:].strip()\n",
    "        \n",
    "        self.preamble,self.body = re.split('\\*\\*\\* START OF THIS PROJECT GUTENBERG EBOOK.*',self.raw_text)\n",
    "        \n",
    "    def get_vocabulary(self):\n",
    "        word_tokenizer = RegexpTokenizer(r'\\w+').tokenize\n",
    "        words = word_tokenizer(self.body)\n",
    "        words = map(string.lower,words)\n",
    "        words = sorted(list(set(words)))\n",
    "        words = filter(lambda s: not s.isdigit(),words)\n",
    "        return words"
   ]
  },
  {
   "cell_type": "code",
   "execution_count": null,
   "metadata": {
    "collapsed": false
   },
   "outputs": [],
   "source": [
    "book = GutenburgBook(32)"
   ]
  },
  {
   "cell_type": "code",
   "execution_count": null,
   "metadata": {
    "collapsed": false,
    "scrolled": false
   },
   "outputs": [],
   "source": [
    "book.author"
   ]
  },
  {
   "cell_type": "code",
   "execution_count": null,
   "metadata": {
    "collapsed": false,
    "scrolled": true
   },
   "outputs": [],
   "source": [
    "book.get_vocabulary()[:50]"
   ]
  },
  {
   "cell_type": "code",
   "execution_count": null,
   "metadata": {
    "collapsed": false
   },
   "outputs": [],
   "source": [
    "book.get_vocabulary()"
   ]
  },
  {
   "cell_type": "code",
   "execution_count": null,
   "metadata": {
    "collapsed": false
   },
   "outputs": [],
   "source": [
    "filtered_dir(book)"
   ]
  },
  {
   "cell_type": "code",
   "execution_count": null,
   "metadata": {
    "collapsed": false
   },
   "outputs": [],
   "source": [
    "re.search('a','apple')"
   ]
  },
  {
   "cell_type": "code",
   "execution_count": null,
   "metadata": {
    "collapsed": true
   },
   "outputs": [],
   "source": [
    "re.search('a','Apple')"
   ]
  },
  {
   "cell_type": "code",
   "execution_count": null,
   "metadata": {
    "collapsed": true
   },
   "outputs": [],
   "source": [
    "def _get_term(term, text):\n",
    "    result = re.search(term+':.*',text)\n",
    "    if result:\n",
    "        return result.group()[len(term)+1:].strip()\n",
    "    else:\n",
    "        return ''\n",
    "    \n",
    "class GutenburgBook(object):\n",
    "    def __init__(self, location):\n",
    "        location = str(location)\n",
    "        \n",
    "        webpage = urllib2.urlopen('http://www.gutenberg.org/cache/epub/%s/pg%s.txt'%(location,location))\n",
    "        self.raw_text = webpage.read()\n",
    "    \n",
    "        self.author   = _get_term('Author',self.raw_text)\n",
    "        self.title    = _get_term('Title',self.raw_text)\n",
    "        self.language = _get_term('Language',self.raw_text)\n",
    "        \n",
    "        self.preamble,self.body = re.split('\\*\\*\\* START OF THIS PROJECT GUTENBERG EBOOK.*',self.raw_text)\n",
    "        \n",
    "    def print_information(self):\n",
    "        print('Author:  ', self.author,sep=' ')\n",
    "        print('Title:   ', self.title,sep=' ')\n",
    "        print('Language:', self.language,sep=' ')\n",
    "        \n",
    "    def get_vocabulary(self):\n",
    "        word_tokenizer = RegexpTokenizer(r'\\w+').tokenize\n",
    "        words = word_tokenizer(self.body)\n",
    "        words = map(string.lower,words)\n",
    "        words = sorted(list(set(words)))\n",
    "        words = filter(lambda s: not s.isdigit(),words)\n",
    "        return words"
   ]
  },
  {
   "cell_type": "code",
   "execution_count": null,
   "metadata": {
    "collapsed": false
   },
   "outputs": [],
   "source": [
    "book = GutenburgBook(10)"
   ]
  },
  {
   "cell_type": "code",
   "execution_count": null,
   "metadata": {
    "collapsed": false,
    "scrolled": true
   },
   "outputs": [],
   "source": [
    "book.print_information()"
   ]
  },
  {
   "cell_type": "code",
   "execution_count": null,
   "metadata": {
    "collapsed": false
   },
   "outputs": [],
   "source": [
    "books = [GutenburgBook(k) for k in range(10,15)]"
   ]
  },
  {
   "cell_type": "code",
   "execution_count": null,
   "metadata": {
    "collapsed": false
   },
   "outputs": [],
   "source": [
    "for book in books:\n",
    "    book.print_information()\n",
    "    print()"
   ]
  },
  {
   "cell_type": "code",
   "execution_count": null,
   "metadata": {
    "collapsed": false,
    "scrolled": true
   },
   "outputs": [],
   "source": [
    "for book in books:\n",
    "    print(book.title, len(book.get_vocabulary()),sep='\\t')"
   ]
  },
  {
   "cell_type": "code",
   "execution_count": null,
   "metadata": {
    "collapsed": true
   },
   "outputs": [],
   "source": [
    "data = [ [book.title,len(book.get_vocabulary())] for book in books ]\n",
    "data"
   ]
  },
  {
   "cell_type": "code",
   "execution_count": null,
   "metadata": {
    "collapsed": false
   },
   "outputs": [],
   "source": [
    "data = sorted(data,key=itemgetter(1))\n",
    "data"
   ]
  },
  {
   "cell_type": "code",
   "execution_count": null,
   "metadata": {
    "collapsed": false
   },
   "outputs": [],
   "source": [
    "%matplotlib inline\n",
    "\n",
    "import matplotlib.pyplot as plot\n",
    "import numpy as np\n",
    "\n",
    "fig = plot.figure(figsize=(12, 9), dpi=600)\n",
    "ax = fig.add_subplot(1,1,1)\n",
    "\n",
    "titles = map(itemgetter(0),data)\n",
    "values = map(itemgetter(1),data)\n",
    "x = range( len(values) )\n",
    "\n",
    "y = np.array(x)+0.5\n",
    "\n",
    "ax.bar(x, values, width=1,color='black',edgecolor='white')\n",
    "\n",
    "ax.set_title('Number of Words in several Gutenburg Books',fontsize=20)\n",
    "\n",
    "ax.set_xticks(y)\n",
    "ax.set_xticklabels(titles,rotation='vertical', fontsize=18)\n",
    "\n",
    "fig.show()"
   ]
  },
  {
   "cell_type": "markdown",
   "metadata": {},
   "source": [
    "<br><br><br><center><font color=#13577F size=8 face='arial black'>Thanks for listening!</font></center><br><br>"
   ]
  }
 ],
 "metadata": {
  "kernelspec": {
   "display_name": "Python 2",
   "language": "python",
   "name": "python2"
  },
  "language_info": {
   "codemirror_mode": {
    "name": "ipython",
    "version": 2
   },
   "file_extension": ".py",
   "mimetype": "text/x-python",
   "name": "python",
   "nbconvert_exporter": "python",
   "pygments_lexer": "ipython2",
   "version": "2.7.11"
  }
 },
 "nbformat": 4,
 "nbformat_minor": 0
}
